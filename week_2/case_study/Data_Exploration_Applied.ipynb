{
 "cells": [
  {
   "cell_type": "code",
   "execution_count": 8,
   "metadata": {},
   "outputs": [],
   "source": [
    "import pandas as pd\n",
    "import matplotlib.pyplot as plt\n",
    "import numpy as np\n",
    "%matplotlib inline\n",
    "\n",
    "import statsmodels.api as sm\n",
    "import seaborn as sns\n",
    "sns.set()"
   ]
  },
  {
   "cell_type": "code",
   "execution_count": 9,
   "metadata": {},
   "outputs": [],
   "source": [
    "#Load our dataframe account for the index columns\n",
    "df = pd.read_csv('case_study.csv',index_col=0)\n",
    "\n"
   ]
  },
  {
   "cell_type": "code",
   "execution_count": 10,
   "metadata": {
    "scrolled": true
   },
   "outputs": [
    {
     "data": {
      "text/plain": [
       "(34545, 358)"
      ]
     },
     "execution_count": 10,
     "metadata": {},
     "output_type": "execute_result"
    }
   ],
   "source": [
    "# Quickly check to see the size of our DF, both rows and columns\n",
    "df.shape"
   ]
  },
  {
   "cell_type": "markdown",
   "metadata": {},
   "source": [
    "## Subset your dataframe to only include the states in the tri-state area (NJ, CT, NY)"
   ]
  },
  {
   "cell_type": "code",
   "execution_count": 11,
   "metadata": {},
   "outputs": [
    {
     "data": {
      "text/plain": [
       "array([ 9., 34., 36.])"
      ]
     },
     "execution_count": 11,
     "metadata": {},
     "output_type": "execute_result"
    }
   ],
   "source": [
    "df['_STATE'].unique()"
   ]
  },
  {
   "cell_type": "markdown",
   "metadata": {},
   "source": [
    "Now check to see how large our subset df."
   ]
  },
  {
   "cell_type": "code",
   "execution_count": 12,
   "metadata": {},
   "outputs": [
    {
     "data": {
      "text/plain": [
       "(34545, 358)"
      ]
     },
     "execution_count": 12,
     "metadata": {},
     "output_type": "execute_result"
    }
   ],
   "source": [
    "df.shape"
   ]
  },
  {
   "cell_type": "markdown",
   "metadata": {},
   "source": [
    "**PHYSHLTH** is the column we are interested in for this analysis, so let's start to investigate the column. Since we have a data cookbook, a.k.a. data dictionary) we want to start there before looking at the code. "
   ]
  },
  {
   "cell_type": "code",
   "execution_count": 13,
   "metadata": {},
   "outputs": [
    {
     "data": {
      "text/plain": [
       "count    34545.000000\n",
       "mean        60.213403\n",
       "std         37.504566\n",
       "min          1.000000\n",
       "25%         15.000000\n",
       "50%         88.000000\n",
       "75%         88.000000\n",
       "max         99.000000\n",
       "Name: PHYSHLTH, dtype: float64"
      ]
     },
     "execution_count": 13,
     "metadata": {},
     "output_type": "execute_result"
    }
   ],
   "source": [
    "df['PHYSHLTH'].describe()"
   ]
  },
  {
   "cell_type": "markdown",
   "metadata": {},
   "source": [
    "## 1. Handle the non-normal values\n",
    "\n",
    "As you can see from the data dictionary, there are a number of responses that are coded with values that could throw off our descriptive statistics.  Let's clean up by mapping the responses to a more appropriate value, and handling any missing values.  "
   ]
  },
  {
   "cell_type": "code",
   "execution_count": 16,
   "metadata": {},
   "outputs": [
    {
     "data": {
      "text/plain": [
       "_STATE          0\n",
       "FMONTH          0\n",
       "IDATE           0\n",
       "IMONTH          0\n",
       "IDAY            0\n",
       "            ...  \n",
       "_RFSEAT2        0\n",
       "_RFSEAT3        0\n",
       "_FLSHOT6    22334\n",
       "_PNEUMO2    22334\n",
       "_AIDTST3     3773\n",
       "Length: 358, dtype: int64"
      ]
     },
     "execution_count": 16,
     "metadata": {},
     "output_type": "execute_result"
    }
   ],
   "source": [
    "# to check if there are any colunms contain only missing values , if the number below == the number of row of the data \n",
    "# remove the colunms \n",
    "df.isnull().sum()"
   ]
  },
  {
   "cell_type": "code",
   "execution_count": 17,
   "metadata": {},
   "outputs": [
    {
     "data": {
      "text/plain": [
       "(34545, 258)"
      ]
     },
     "execution_count": 17,
     "metadata": {},
     "output_type": "execute_result"
    }
   ],
   "source": [
    "#remove all columns only contain missing value/naN\n",
    "list_col=[]\n",
    "for i in df.columns:\n",
    "    \n",
    "    if df[i].isnull().sum()==34545:\n",
    "        list_col.append(i)\n",
    "\n",
    "\n",
    "df_cleaned=df.drop(columns=list_col)\n",
    "df_cleaned.shape      "
   ]
  },
  {
   "cell_type": "code",
   "execution_count": 18,
   "metadata": {},
   "outputs": [
    {
     "data": {
      "text/plain": [
       "(34545, 358)"
      ]
     },
     "execution_count": 18,
     "metadata": {},
     "output_type": "execute_result"
    }
   ],
   "source": [
    "# compare original data shape and cleaned data shape. we can see 100 colunms are removed.\n",
    "df.shape"
   ]
  },
  {
   "cell_type": "markdown",
   "metadata": {},
   "source": [
    "## 2. Generate the descriptive statistics\n",
    "\n",
    "Now that our target variable is cleaned up lets calculate the descriptive statistics, generate a graph that quickly shows those statistics, and generate a gprah shows the histogram of the data."
   ]
  },
  {
   "cell_type": "code",
   "execution_count": 154,
   "metadata": {},
   "outputs": [
    {
     "data": {
      "text/html": [
       "<div>\n",
       "<style scoped>\n",
       "    .dataframe tbody tr th:only-of-type {\n",
       "        vertical-align: middle;\n",
       "    }\n",
       "\n",
       "    .dataframe tbody tr th {\n",
       "        vertical-align: top;\n",
       "    }\n",
       "\n",
       "    .dataframe thead th {\n",
       "        text-align: right;\n",
       "    }\n",
       "</style>\n",
       "<table border=\"1\" class=\"dataframe\">\n",
       "  <thead>\n",
       "    <tr style=\"text-align: right;\">\n",
       "      <th></th>\n",
       "      <th>_STATE</th>\n",
       "      <th>FMONTH</th>\n",
       "      <th>IDATE</th>\n",
       "      <th>IMONTH</th>\n",
       "      <th>IDAY</th>\n",
       "      <th>IYEAR</th>\n",
       "      <th>DISPCODE</th>\n",
       "      <th>SEQNO</th>\n",
       "      <th>_PSU</th>\n",
       "      <th>CTELENM1</th>\n",
       "      <th>...</th>\n",
       "      <th>_PA300R2</th>\n",
       "      <th>_PA30021</th>\n",
       "      <th>_PASTRNG</th>\n",
       "      <th>_PAREC1</th>\n",
       "      <th>_PASTAE1</th>\n",
       "      <th>_RFSEAT2</th>\n",
       "      <th>_RFSEAT3</th>\n",
       "      <th>_FLSHOT6</th>\n",
       "      <th>_PNEUMO2</th>\n",
       "      <th>_AIDTST3</th>\n",
       "    </tr>\n",
       "  </thead>\n",
       "  <tbody>\n",
       "    <tr>\n",
       "      <td>count</td>\n",
       "      <td>34545.000000</td>\n",
       "      <td>34545.000000</td>\n",
       "      <td>3.454500e+04</td>\n",
       "      <td>34545.000000</td>\n",
       "      <td>34545.000000</td>\n",
       "      <td>34545.000000</td>\n",
       "      <td>34545.000000</td>\n",
       "      <td>3.454500e+04</td>\n",
       "      <td>3.454500e+04</td>\n",
       "      <td>18502.0</td>\n",
       "      <td>...</td>\n",
       "      <td>34545.000000</td>\n",
       "      <td>34545.000000</td>\n",
       "      <td>34545.000000</td>\n",
       "      <td>34545.000000</td>\n",
       "      <td>34545.000000</td>\n",
       "      <td>34545.000000</td>\n",
       "      <td>34545.000000</td>\n",
       "      <td>12211.000000</td>\n",
       "      <td>12211.000000</td>\n",
       "      <td>30772.000000</td>\n",
       "    </tr>\n",
       "    <tr>\n",
       "      <td>mean</td>\n",
       "      <td>27.046693</td>\n",
       "      <td>6.966855</td>\n",
       "      <td>7.273633e+06</td>\n",
       "      <td>7.119323</td>\n",
       "      <td>15.229295</td>\n",
       "      <td>2017.001274</td>\n",
       "      <td>1118.428137</td>\n",
       "      <td>2.017006e+09</td>\n",
       "      <td>2.017006e+09</td>\n",
       "      <td>1.0</td>\n",
       "      <td>...</td>\n",
       "      <td>2.909654</td>\n",
       "      <td>2.651498</td>\n",
       "      <td>2.482038</td>\n",
       "      <td>3.553134</td>\n",
       "      <td>2.801216</td>\n",
       "      <td>1.850485</td>\n",
       "      <td>1.890606</td>\n",
       "      <td>2.380968</td>\n",
       "      <td>2.447875</td>\n",
       "      <td>1.844339</td>\n",
       "    </tr>\n",
       "    <tr>\n",
       "      <td>std</td>\n",
       "      <td>12.026461</td>\n",
       "      <td>3.479398</td>\n",
       "      <td>3.476456e+06</td>\n",
       "      <td>3.476148</td>\n",
       "      <td>8.821280</td>\n",
       "      <td>0.035667</td>\n",
       "      <td>38.771910</td>\n",
       "      <td>3.360677e+03</td>\n",
       "      <td>3.360677e+03</td>\n",
       "      <td>0.0</td>\n",
       "      <td>...</td>\n",
       "      <td>2.499531</td>\n",
       "      <td>2.528344</td>\n",
       "      <td>2.300046</td>\n",
       "      <td>2.457341</td>\n",
       "      <td>2.526893</td>\n",
       "      <td>2.409890</td>\n",
       "      <td>2.403713</td>\n",
       "      <td>2.617896</td>\n",
       "      <td>2.828682</td>\n",
       "      <td>1.347835</td>\n",
       "    </tr>\n",
       "    <tr>\n",
       "      <td>min</td>\n",
       "      <td>9.000000</td>\n",
       "      <td>1.000000</td>\n",
       "      <td>1.012018e+06</td>\n",
       "      <td>1.000000</td>\n",
       "      <td>1.000000</td>\n",
       "      <td>2017.000000</td>\n",
       "      <td>1100.000000</td>\n",
       "      <td>2.017000e+09</td>\n",
       "      <td>2.017000e+09</td>\n",
       "      <td>1.0</td>\n",
       "      <td>...</td>\n",
       "      <td>1.000000</td>\n",
       "      <td>1.000000</td>\n",
       "      <td>1.000000</td>\n",
       "      <td>1.000000</td>\n",
       "      <td>1.000000</td>\n",
       "      <td>1.000000</td>\n",
       "      <td>1.000000</td>\n",
       "      <td>1.000000</td>\n",
       "      <td>1.000000</td>\n",
       "      <td>1.000000</td>\n",
       "    </tr>\n",
       "    <tr>\n",
       "      <td>25%</td>\n",
       "      <td>9.000000</td>\n",
       "      <td>4.000000</td>\n",
       "      <td>4.192017e+06</td>\n",
       "      <td>4.000000</td>\n",
       "      <td>7.000000</td>\n",
       "      <td>2017.000000</td>\n",
       "      <td>1100.000000</td>\n",
       "      <td>2.017003e+09</td>\n",
       "      <td>2.017003e+09</td>\n",
       "      <td>1.0</td>\n",
       "      <td>...</td>\n",
       "      <td>1.000000</td>\n",
       "      <td>1.000000</td>\n",
       "      <td>1.000000</td>\n",
       "      <td>2.000000</td>\n",
       "      <td>2.000000</td>\n",
       "      <td>1.000000</td>\n",
       "      <td>1.000000</td>\n",
       "      <td>1.000000</td>\n",
       "      <td>1.000000</td>\n",
       "      <td>1.000000</td>\n",
       "    </tr>\n",
       "    <tr>\n",
       "      <td>50%</td>\n",
       "      <td>34.000000</td>\n",
       "      <td>7.000000</td>\n",
       "      <td>8.022017e+06</td>\n",
       "      <td>8.000000</td>\n",
       "      <td>15.000000</td>\n",
       "      <td>2017.000000</td>\n",
       "      <td>1100.000000</td>\n",
       "      <td>2.017006e+09</td>\n",
       "      <td>2.017006e+09</td>\n",
       "      <td>1.0</td>\n",
       "      <td>...</td>\n",
       "      <td>2.000000</td>\n",
       "      <td>2.000000</td>\n",
       "      <td>2.000000</td>\n",
       "      <td>3.000000</td>\n",
       "      <td>2.000000</td>\n",
       "      <td>1.000000</td>\n",
       "      <td>1.000000</td>\n",
       "      <td>1.000000</td>\n",
       "      <td>1.000000</td>\n",
       "      <td>2.000000</td>\n",
       "    </tr>\n",
       "    <tr>\n",
       "      <td>75%</td>\n",
       "      <td>36.000000</td>\n",
       "      <td>10.000000</td>\n",
       "      <td>1.021202e+07</td>\n",
       "      <td>10.000000</td>\n",
       "      <td>22.000000</td>\n",
       "      <td>2017.000000</td>\n",
       "      <td>1100.000000</td>\n",
       "      <td>2.017009e+09</td>\n",
       "      <td>2.017009e+09</td>\n",
       "      <td>1.0</td>\n",
       "      <td>...</td>\n",
       "      <td>3.000000</td>\n",
       "      <td>2.000000</td>\n",
       "      <td>2.000000</td>\n",
       "      <td>4.000000</td>\n",
       "      <td>2.000000</td>\n",
       "      <td>1.000000</td>\n",
       "      <td>1.000000</td>\n",
       "      <td>2.000000</td>\n",
       "      <td>2.000000</td>\n",
       "      <td>2.000000</td>\n",
       "    </tr>\n",
       "    <tr>\n",
       "      <td>max</td>\n",
       "      <td>36.000000</td>\n",
       "      <td>12.000000</td>\n",
       "      <td>1.231202e+07</td>\n",
       "      <td>12.000000</td>\n",
       "      <td>31.000000</td>\n",
       "      <td>2018.000000</td>\n",
       "      <td>1200.000000</td>\n",
       "      <td>2.017012e+09</td>\n",
       "      <td>2.017012e+09</td>\n",
       "      <td>1.0</td>\n",
       "      <td>...</td>\n",
       "      <td>9.000000</td>\n",
       "      <td>9.000000</td>\n",
       "      <td>9.000000</td>\n",
       "      <td>9.000000</td>\n",
       "      <td>9.000000</td>\n",
       "      <td>9.000000</td>\n",
       "      <td>9.000000</td>\n",
       "      <td>9.000000</td>\n",
       "      <td>9.000000</td>\n",
       "      <td>9.000000</td>\n",
       "    </tr>\n",
       "  </tbody>\n",
       "</table>\n",
       "<p>8 rows × 257 columns</p>\n",
       "</div>"
      ],
      "text/plain": [
       "             _STATE        FMONTH         IDATE        IMONTH          IDAY  \\\n",
       "count  34545.000000  34545.000000  3.454500e+04  34545.000000  34545.000000   \n",
       "mean      27.046693      6.966855  7.273633e+06      7.119323     15.229295   \n",
       "std       12.026461      3.479398  3.476456e+06      3.476148      8.821280   \n",
       "min        9.000000      1.000000  1.012018e+06      1.000000      1.000000   \n",
       "25%        9.000000      4.000000  4.192017e+06      4.000000      7.000000   \n",
       "50%       34.000000      7.000000  8.022017e+06      8.000000     15.000000   \n",
       "75%       36.000000     10.000000  1.021202e+07     10.000000     22.000000   \n",
       "max       36.000000     12.000000  1.231202e+07     12.000000     31.000000   \n",
       "\n",
       "              IYEAR      DISPCODE         SEQNO          _PSU  CTELENM1  ...  \\\n",
       "count  34545.000000  34545.000000  3.454500e+04  3.454500e+04   18502.0  ...   \n",
       "mean    2017.001274   1118.428137  2.017006e+09  2.017006e+09       1.0  ...   \n",
       "std        0.035667     38.771910  3.360677e+03  3.360677e+03       0.0  ...   \n",
       "min     2017.000000   1100.000000  2.017000e+09  2.017000e+09       1.0  ...   \n",
       "25%     2017.000000   1100.000000  2.017003e+09  2.017003e+09       1.0  ...   \n",
       "50%     2017.000000   1100.000000  2.017006e+09  2.017006e+09       1.0  ...   \n",
       "75%     2017.000000   1100.000000  2.017009e+09  2.017009e+09       1.0  ...   \n",
       "max     2018.000000   1200.000000  2.017012e+09  2.017012e+09       1.0  ...   \n",
       "\n",
       "           _PA300R2      _PA30021      _PASTRNG       _PAREC1      _PASTAE1  \\\n",
       "count  34545.000000  34545.000000  34545.000000  34545.000000  34545.000000   \n",
       "mean       2.909654      2.651498      2.482038      3.553134      2.801216   \n",
       "std        2.499531      2.528344      2.300046      2.457341      2.526893   \n",
       "min        1.000000      1.000000      1.000000      1.000000      1.000000   \n",
       "25%        1.000000      1.000000      1.000000      2.000000      2.000000   \n",
       "50%        2.000000      2.000000      2.000000      3.000000      2.000000   \n",
       "75%        3.000000      2.000000      2.000000      4.000000      2.000000   \n",
       "max        9.000000      9.000000      9.000000      9.000000      9.000000   \n",
       "\n",
       "           _RFSEAT2      _RFSEAT3      _FLSHOT6      _PNEUMO2      _AIDTST3  \n",
       "count  34545.000000  34545.000000  12211.000000  12211.000000  30772.000000  \n",
       "mean       1.850485      1.890606      2.380968      2.447875      1.844339  \n",
       "std        2.409890      2.403713      2.617896      2.828682      1.347835  \n",
       "min        1.000000      1.000000      1.000000      1.000000      1.000000  \n",
       "25%        1.000000      1.000000      1.000000      1.000000      1.000000  \n",
       "50%        1.000000      1.000000      1.000000      1.000000      2.000000  \n",
       "75%        1.000000      1.000000      2.000000      2.000000      2.000000  \n",
       "max        9.000000      9.000000      9.000000      9.000000      9.000000  \n",
       "\n",
       "[8 rows x 257 columns]"
      ]
     },
     "execution_count": 154,
     "metadata": {},
     "output_type": "execute_result"
    }
   ],
   "source": [
    "# descriptive statistics\n",
    "df_cleaned.describe()"
   ]
  },
  {
   "cell_type": "code",
   "execution_count": 157,
   "metadata": {
    "scrolled": false
   },
   "outputs": [
    {
     "data": {
      "text/plain": [
       "49938     0.0\n",
       "49939     0.0\n",
       "49940     2.0\n",
       "49941     0.0\n",
       "49942     0.0\n",
       "         ... \n",
       "303774    0.0\n",
       "303775    0.0\n",
       "303776    6.0\n",
       "303777    0.0\n",
       "303778    0.0\n",
       "Name: PHYSHLTH, Length: 34545, dtype: float64"
      ]
     },
     "execution_count": 157,
     "metadata": {},
     "output_type": "execute_result"
    }
   ],
   "source": [
    "# graphic showing those descriptive stats\n",
    "\n",
    "hist=df_cleaned['PHYSHLTH'].apply(lambda x: x if x in range(1,31) else 0)\n",
    "\n",
    "hist"
   ]
  },
  {
   "cell_type": "code",
   "execution_count": 158,
   "metadata": {},
   "outputs": [
    {
     "data": {
      "text/plain": [
       "0.0     22094\n",
       "30.0     2438\n",
       "2.0      1993\n",
       "1.0      1538\n",
       "3.0      1187\n",
       "5.0      1092\n",
       "10.0      751\n",
       "7.0       641\n",
       "15.0      640\n",
       "4.0       622\n",
       "20.0      402\n",
       "14.0      326\n",
       "6.0       187\n",
       "25.0      159\n",
       "8.0        99\n",
       "21.0       70\n",
       "12.0       69\n",
       "28.0       57\n",
       "29.0       35\n",
       "27.0       22\n",
       "18.0       19\n",
       "16.0       16\n",
       "17.0       15\n",
       "9.0        15\n",
       "22.0       12\n",
       "13.0       10\n",
       "19.0       10\n",
       "11.0        8\n",
       "24.0        7\n",
       "26.0        7\n",
       "23.0        4\n",
       "Name: PHYSHLTH, dtype: int64"
      ]
     },
     "execution_count": 158,
     "metadata": {},
     "output_type": "execute_result"
    }
   ],
   "source": [
    "hist.value_counts()"
   ]
  },
  {
   "cell_type": "code",
   "execution_count": 160,
   "metadata": {},
   "outputs": [
    {
     "data": {
      "text/plain": [
       "Text(0, 0.5, 'Amount of people sick')"
      ]
     },
     "execution_count": 160,
     "metadata": {},
     "output_type": "execute_result"
    },
    {
     "data": {
      "image/png": "[encoded data removed]",
      "text/plain": [
       "<Figure size 432x288 with 1 Axes>"
      ]
     },
     "metadata": {},
     "output_type": "display_data"
    }
   ],
   "source": [
    "plt.hist(hist)\n",
    "plt.xlabel('Sick Days')\n",
    "plt.ylabel('Amount of people sick')"
   ]
  },
  {
   "cell_type": "markdown",
   "metadata": {},
   "source": [
    "## 3. Generate a graphic that compares the average number of sick days for each state. "
   ]
  },
  {
   "cell_type": "code",
   "execution_count": null,
   "metadata": {},
   "outputs": [],
   "source": [
    "#from the dictionary there are two different sick types  pysically sick or mentally sick."
   ]
  },
  {
   "cell_type": "code",
   "execution_count": 21,
   "metadata": {
    "scrolled": true
   },
   "outputs": [],
   "source": [
    "# code to calculate the average number of sick days by state\n",
    "# Groupby state and slect the column 'PHYSHLTH' which is  Number of Days Physical Health \n",
    "#  'MENTHLTH' =  number of the days that mental health are Not Good  and collect data for 2017 \n",
    "num_sick_day_raw=df_cleaned[['_STATE','IMONTH','IYEAR','MENTHLTH','PHYSHLTH']].reset_index().drop(columns='index')\n",
    "num_sick_day=num_sick_day_raw[num_sick_day_raw['IYEAR']==2017].reset_index().drop(columns='index')"
   ]
  },
  {
   "cell_type": "code",
   "execution_count": 22,
   "metadata": {
    "scrolled": true
   },
   "outputs": [
    {
     "data": {
      "text/plain": [
       "(34501, 5)"
      ]
     },
     "execution_count": 22,
     "metadata": {},
     "output_type": "execute_result"
    }
   ],
   "source": [
    "# to set up dummy for physical sickness and mental sickness and if the values are 77,99 or blank will be None and \n",
    "# cannot be considered as meaningful data  \n",
    "num_sick_day['PHYSHLTH']=num_sick_day['PHYSHLTH'].apply(lambda x: x if x in range(1,31)  else 0)\n",
    "num_sick_day['MENTHLTH']=num_sick_day['MENTHLTH'].apply(lambda x: x if x in range(1,31)  else 0)\n",
    "num_sick_day_cleaned=num_sick_day.dropna(axis=0)\n",
    "num_sick_day_cleaned.shape"
   ]
  },
  {
   "cell_type": "code",
   "execution_count": 28,
   "metadata": {},
   "outputs": [
    {
     "data": {
      "text/html": [
       "<div>\n",
       "<style scoped>\n",
       "    .dataframe tbody tr th:only-of-type {\n",
       "        vertical-align: middle;\n",
       "    }\n",
       "\n",
       "    .dataframe tbody tr th {\n",
       "        vertical-align: top;\n",
       "    }\n",
       "\n",
       "    .dataframe thead th {\n",
       "        text-align: right;\n",
       "    }\n",
       "</style>\n",
       "<table border=\"1\" class=\"dataframe\">\n",
       "  <thead>\n",
       "    <tr style=\"text-align: right;\">\n",
       "      <th></th>\n",
       "      <th>_STATE</th>\n",
       "      <th>IMONTH</th>\n",
       "      <th>MENTHLTH</th>\n",
       "      <th>PHYSHLTH</th>\n",
       "    </tr>\n",
       "  </thead>\n",
       "  <tbody>\n",
       "    <tr>\n",
       "      <td>0</td>\n",
       "      <td>9.0</td>\n",
       "      <td>1</td>\n",
       "      <td>3.267559</td>\n",
       "      <td>4.115942</td>\n",
       "    </tr>\n",
       "    <tr>\n",
       "      <td>1</td>\n",
       "      <td>9.0</td>\n",
       "      <td>2</td>\n",
       "      <td>3.234162</td>\n",
       "      <td>3.611868</td>\n",
       "    </tr>\n",
       "    <tr>\n",
       "      <td>2</td>\n",
       "      <td>9.0</td>\n",
       "      <td>3</td>\n",
       "      <td>3.052381</td>\n",
       "      <td>3.516190</td>\n",
       "    </tr>\n",
       "    <tr>\n",
       "      <td>3</td>\n",
       "      <td>9.0</td>\n",
       "      <td>4</td>\n",
       "      <td>3.069343</td>\n",
       "      <td>3.329684</td>\n",
       "    </tr>\n",
       "    <tr>\n",
       "      <td>4</td>\n",
       "      <td>9.0</td>\n",
       "      <td>5</td>\n",
       "      <td>3.379041</td>\n",
       "      <td>3.607581</td>\n",
       "    </tr>\n",
       "  </tbody>\n",
       "</table>\n",
       "</div>"
      ],
      "text/plain": [
       "   _STATE  IMONTH  MENTHLTH  PHYSHLTH\n",
       "0     9.0       1  3.267559  4.115942\n",
       "1     9.0       2  3.234162  3.611868\n",
       "2     9.0       3  3.052381  3.516190\n",
       "3     9.0       4  3.069343  3.329684\n",
       "4     9.0       5  3.379041  3.607581"
      ]
     },
     "execution_count": 28,
     "metadata": {},
     "output_type": "execute_result"
    }
   ],
   "source": [
    "# to get the mean of mental and physical sickness each month groupby state\n",
    "num_sick_day_clean=pd.DataFrame(num_sick_day_cleaned.groupby(['_STATE','IMONTH'])['MENTHLTH','PHYSHLTH'].mean()).reset_index()\n",
    "num_sick_day_clean.head()"
   ]
  },
  {
   "cell_type": "code",
   "execution_count": 24,
   "metadata": {
    "scrolled": true
   },
   "outputs": [
    {
     "data": {
      "text/html": [
       "<div>\n",
       "<style scoped>\n",
       "    .dataframe tbody tr th:only-of-type {\n",
       "        vertical-align: middle;\n",
       "    }\n",
       "\n",
       "    .dataframe tbody tr th {\n",
       "        vertical-align: top;\n",
       "    }\n",
       "\n",
       "    .dataframe thead th {\n",
       "        text-align: right;\n",
       "    }\n",
       "</style>\n",
       "<table border=\"1\" class=\"dataframe\">\n",
       "  <thead>\n",
       "    <tr style=\"text-align: right;\">\n",
       "      <th></th>\n",
       "      <th>_STATE</th>\n",
       "      <th>MENTHLTH</th>\n",
       "      <th>PHYSHLTH</th>\n",
       "    </tr>\n",
       "  </thead>\n",
       "  <tbody>\n",
       "    <tr>\n",
       "      <td>0</td>\n",
       "      <td>9.0</td>\n",
       "      <td>3.067781</td>\n",
       "      <td>3.592353</td>\n",
       "    </tr>\n",
       "    <tr>\n",
       "      <td>1</td>\n",
       "      <td>34.0</td>\n",
       "      <td>3.551698</td>\n",
       "      <td>4.453109</td>\n",
       "    </tr>\n",
       "    <tr>\n",
       "      <td>2</td>\n",
       "      <td>36.0</td>\n",
       "      <td>3.593129</td>\n",
       "      <td>4.026003</td>\n",
       "    </tr>\n",
       "  </tbody>\n",
       "</table>\n",
       "</div>"
      ],
      "text/plain": [
       "   _STATE  MENTHLTH  PHYSHLTH\n",
       "0     9.0  3.067781  3.592353\n",
       "1    34.0  3.551698  4.453109\n",
       "2    36.0  3.593129  4.026003"
      ]
     },
     "execution_count": 24,
     "metadata": {},
     "output_type": "execute_result"
    }
   ],
   "source": [
    "# to get mean for year of 2017 \n",
    "me=pd.DataFrame(num_sick_day_clean.groupby('_STATE')['MENTHLTH'].mean()).reset_index()\n",
    "ph=pd.DataFrame(num_sick_day_clean.groupby('_STATE')['PHYSHLTH'].mean()).reset_index()\n",
    "\n",
    "combo=pd.merge(me,ph,how=\"outer\",on='_STATE')\n",
    "combo"
   ]
  },
  {
   "cell_type": "code",
   "execution_count": 25,
   "metadata": {
    "scrolled": true
   },
   "outputs": [
    {
     "data": {
      "image/png": "[encoded data removed]",
      "text/plain": [
       "<Figure size 432x288 with 1 Axes>"
      ]
     },
     "metadata": {},
     "output_type": "display_data"
    }
   ],
   "source": [
    "states_list = ['Connecticut','New Jersey','New York']\n",
    "\n",
    "x = np.arange(len(states_list))  # the label locations\n",
    "width = 0.35  # the width of the bars\n",
    "fig, ax = plt.subplots(figsize=(6,4))\n",
    "rects1 = ax.bar(x - width/2, round(combo['MENTHLTH'],2), width, label='Mean of mental sickness')\n",
    "rects2 = ax.bar(x + width/2, round(combo['PHYSHLTH'],2), width, label='Mean of physical sickness')\n",
    "\n",
    "# Add some text for labels, title and custom x-axis tick labels, etc.\n",
    "ax.set_ylabel('Sick Days')\n",
    "ax.set_title('Mean of mental and pyhsical illness days in 3 states')\n",
    "ax.set_xticks(x)\n",
    "ax.set_xticklabels(states_list)\n",
    "ax.legend()\n",
    "\n",
    "def autolabel(rects):\n",
    "    \"\"\"Attach a text label above each bar in *rects*, displaying its height.\"\"\"\n",
    "    for rect in rects:\n",
    "        height = rect.get_height()\n",
    "        ax.annotate('{}'.format(height),\n",
    "                    xy=(rect.get_x() + rect.get_width() / 2, height),\n",
    "                    xytext=(0, 3),  # 3 points vertical offset\n",
    "                    textcoords=\"offset points\",\n",
    "                    ha='center', va='bottom')\n",
    "\n",
    "\n",
    "autolabel(rects1)\n",
    "autolabel(rects2)\n",
    "plt.legend(loc='lower left')\n",
    "plt.show()\n",
    "\n",
    "# bar chart for the means of mental sickness and physical sickness in different states \n",
    "# those numbers mean people get sick around 3-4 days each month \n"
   ]
  },
  {
   "cell_type": "markdown",
   "metadata": {},
   "source": [
    "## 4. Turn the number of sick days into a classification of of chronically sick people.  \n",
    "\n",
    "Chronically sick people account for a significant proportion of the costs for health insurers. If we can identify what leads people to be chronically sick, we can address them with specific treatments.\n",
    "\n"
   ]
  },
  {
   "cell_type": "code",
   "execution_count": 29,
   "metadata": {
    "scrolled": false
   },
   "outputs": [
    {
     "data": {
      "text/html": [
       "<div>\n",
       "<style scoped>\n",
       "    .dataframe tbody tr th:only-of-type {\n",
       "        vertical-align: middle;\n",
       "    }\n",
       "\n",
       "    .dataframe tbody tr th {\n",
       "        vertical-align: top;\n",
       "    }\n",
       "\n",
       "    .dataframe thead th {\n",
       "        text-align: right;\n",
       "    }\n",
       "</style>\n",
       "<table border=\"1\" class=\"dataframe\">\n",
       "  <thead>\n",
       "    <tr style=\"text-align: right;\">\n",
       "      <th></th>\n",
       "      <th>CVDINFR4</th>\n",
       "      <th>CVDCRHD4</th>\n",
       "      <th>CVDSTRK3</th>\n",
       "      <th>ASTHMA3</th>\n",
       "      <th>CHCSCNCR</th>\n",
       "      <th>CHCOCNCR</th>\n",
       "      <th>CHCCOPD1</th>\n",
       "      <th>ADDEPEV2</th>\n",
       "      <th>DIABETE3</th>\n",
       "      <th>CHCKIDNY</th>\n",
       "    </tr>\n",
       "  </thead>\n",
       "  <tbody>\n",
       "    <tr>\n",
       "      <td>0</td>\n",
       "      <td>2.0</td>\n",
       "      <td>2.0</td>\n",
       "      <td>2.0</td>\n",
       "      <td>2.0</td>\n",
       "      <td>2.0</td>\n",
       "      <td>2.0</td>\n",
       "      <td>2.0</td>\n",
       "      <td>1.0</td>\n",
       "      <td>3.0</td>\n",
       "      <td>2.0</td>\n",
       "    </tr>\n",
       "    <tr>\n",
       "      <td>1</td>\n",
       "      <td>2.0</td>\n",
       "      <td>2.0</td>\n",
       "      <td>2.0</td>\n",
       "      <td>2.0</td>\n",
       "      <td>2.0</td>\n",
       "      <td>2.0</td>\n",
       "      <td>2.0</td>\n",
       "      <td>2.0</td>\n",
       "      <td>3.0</td>\n",
       "      <td>2.0</td>\n",
       "    </tr>\n",
       "    <tr>\n",
       "      <td>2</td>\n",
       "      <td>2.0</td>\n",
       "      <td>2.0</td>\n",
       "      <td>2.0</td>\n",
       "      <td>2.0</td>\n",
       "      <td>2.0</td>\n",
       "      <td>2.0</td>\n",
       "      <td>2.0</td>\n",
       "      <td>2.0</td>\n",
       "      <td>3.0</td>\n",
       "      <td>2.0</td>\n",
       "    </tr>\n",
       "    <tr>\n",
       "      <td>3</td>\n",
       "      <td>2.0</td>\n",
       "      <td>2.0</td>\n",
       "      <td>2.0</td>\n",
       "      <td>2.0</td>\n",
       "      <td>2.0</td>\n",
       "      <td>2.0</td>\n",
       "      <td>2.0</td>\n",
       "      <td>2.0</td>\n",
       "      <td>3.0</td>\n",
       "      <td>2.0</td>\n",
       "    </tr>\n",
       "    <tr>\n",
       "      <td>4</td>\n",
       "      <td>2.0</td>\n",
       "      <td>2.0</td>\n",
       "      <td>2.0</td>\n",
       "      <td>2.0</td>\n",
       "      <td>2.0</td>\n",
       "      <td>2.0</td>\n",
       "      <td>2.0</td>\n",
       "      <td>2.0</td>\n",
       "      <td>3.0</td>\n",
       "      <td>2.0</td>\n",
       "    </tr>\n",
       "  </tbody>\n",
       "</table>\n",
       "</div>"
      ],
      "text/plain": [
       "   CVDINFR4  CVDCRHD4  CVDSTRK3  ASTHMA3  CHCSCNCR  CHCOCNCR  CHCCOPD1  \\\n",
       "0       2.0       2.0       2.0      2.0       2.0       2.0       2.0   \n",
       "1       2.0       2.0       2.0      2.0       2.0       2.0       2.0   \n",
       "2       2.0       2.0       2.0      2.0       2.0       2.0       2.0   \n",
       "3       2.0       2.0       2.0      2.0       2.0       2.0       2.0   \n",
       "4       2.0       2.0       2.0      2.0       2.0       2.0       2.0   \n",
       "\n",
       "   ADDEPEV2  DIABETE3  CHCKIDNY  \n",
       "0       1.0       3.0       2.0  \n",
       "1       2.0       3.0       2.0  \n",
       "2       2.0       3.0       2.0  \n",
       "3       2.0       3.0       2.0  \n",
       "4       2.0       3.0       2.0  "
      ]
     },
     "execution_count": 29,
     "metadata": {},
     "output_type": "execute_result"
    }
   ],
   "source": [
    "#From the dictionary , I can see there are so many types of chronically sick people:\n",
    "#Heart Attack/Angina or Coronary Heart Disease/Asthma/skin cancer/ \n",
    "#chronic obstructive pulmonary disease, emphysema or chronic bronchitis/depressive disorder/diabetes\n",
    "# 'CVDINFR4/CVDCRHD4/ASTHMA3/CHCSCNCR/CHCCOPD1/ ADDEPEV2/DIABETE3'  we have 10 different types of chronic sickness\n",
    "sickness_types=['Heart Attack','Angina \\n Coronary Heart Disease','Stroke','Asthma','Skin Cancer',\n",
    "               'Other Cancers','Emphysema \\n Chronic Bronchitis','Depressive Disorder',\n",
    "               'Diabetes','Kidney Disease']\n",
    "sickness_type=['CVDINFR4','CVDCRHD4', 'CVDSTRK3','ASTHNOW','CHCSCNCR','CHCOCNCR','CHCCOPD1','ADDEPEV2','DIABETE3','CHCKIDNY']\n",
    "d1=df_cleaned[['CVDINFR4','CVDCRHD4', 'CVDSTRK3','ASTHMA3','CHCSCNCR','CHCOCNCR','CHCCOPD1','ADDEPEV2','DIABETE3','CHCKIDNY']].reset_index().drop(columns='index')\n",
    "# we can see each row has number  from (1 2 3 4 5 )if the value is 1 means the person has chronic disease\n",
    "d1.head()"
   ]
  },
  {
   "cell_type": "code",
   "execution_count": 30,
   "metadata": {
    "scrolled": true
   },
   "outputs": [
    {
     "data": {
      "text/html": [
       "<div>\n",
       "<style scoped>\n",
       "    .dataframe tbody tr th:only-of-type {\n",
       "        vertical-align: middle;\n",
       "    }\n",
       "\n",
       "    .dataframe tbody tr th {\n",
       "        vertical-align: top;\n",
       "    }\n",
       "\n",
       "    .dataframe thead th {\n",
       "        text-align: right;\n",
       "    }\n",
       "</style>\n",
       "<table border=\"1\" class=\"dataframe\">\n",
       "  <thead>\n",
       "    <tr style=\"text-align: right;\">\n",
       "      <th></th>\n",
       "      <th>CVDINFR4</th>\n",
       "      <th>CVDCRHD4</th>\n",
       "      <th>CVDSTRK3</th>\n",
       "      <th>ASTHMA3</th>\n",
       "      <th>CHCSCNCR</th>\n",
       "      <th>CHCOCNCR</th>\n",
       "      <th>CHCCOPD1</th>\n",
       "      <th>ADDEPEV2</th>\n",
       "      <th>DIABETE3</th>\n",
       "      <th>CHCKIDNY</th>\n",
       "    </tr>\n",
       "  </thead>\n",
       "  <tbody>\n",
       "    <tr>\n",
       "      <td>0</td>\n",
       "      <td>0</td>\n",
       "      <td>0</td>\n",
       "      <td>0</td>\n",
       "      <td>0</td>\n",
       "      <td>0</td>\n",
       "      <td>0</td>\n",
       "      <td>0</td>\n",
       "      <td>1</td>\n",
       "      <td>0</td>\n",
       "      <td>0</td>\n",
       "    </tr>\n",
       "    <tr>\n",
       "      <td>1</td>\n",
       "      <td>0</td>\n",
       "      <td>0</td>\n",
       "      <td>0</td>\n",
       "      <td>0</td>\n",
       "      <td>0</td>\n",
       "      <td>0</td>\n",
       "      <td>0</td>\n",
       "      <td>0</td>\n",
       "      <td>0</td>\n",
       "      <td>0</td>\n",
       "    </tr>\n",
       "    <tr>\n",
       "      <td>2</td>\n",
       "      <td>0</td>\n",
       "      <td>0</td>\n",
       "      <td>0</td>\n",
       "      <td>0</td>\n",
       "      <td>0</td>\n",
       "      <td>0</td>\n",
       "      <td>0</td>\n",
       "      <td>0</td>\n",
       "      <td>0</td>\n",
       "      <td>0</td>\n",
       "    </tr>\n",
       "    <tr>\n",
       "      <td>3</td>\n",
       "      <td>0</td>\n",
       "      <td>0</td>\n",
       "      <td>0</td>\n",
       "      <td>0</td>\n",
       "      <td>0</td>\n",
       "      <td>0</td>\n",
       "      <td>0</td>\n",
       "      <td>0</td>\n",
       "      <td>0</td>\n",
       "      <td>0</td>\n",
       "    </tr>\n",
       "    <tr>\n",
       "      <td>4</td>\n",
       "      <td>0</td>\n",
       "      <td>0</td>\n",
       "      <td>0</td>\n",
       "      <td>0</td>\n",
       "      <td>0</td>\n",
       "      <td>0</td>\n",
       "      <td>0</td>\n",
       "      <td>0</td>\n",
       "      <td>0</td>\n",
       "      <td>0</td>\n",
       "    </tr>\n",
       "    <tr>\n",
       "      <td>...</td>\n",
       "      <td>...</td>\n",
       "      <td>...</td>\n",
       "      <td>...</td>\n",
       "      <td>...</td>\n",
       "      <td>...</td>\n",
       "      <td>...</td>\n",
       "      <td>...</td>\n",
       "      <td>...</td>\n",
       "      <td>...</td>\n",
       "      <td>...</td>\n",
       "    </tr>\n",
       "    <tr>\n",
       "      <td>34540</td>\n",
       "      <td>0</td>\n",
       "      <td>0</td>\n",
       "      <td>0</td>\n",
       "      <td>0</td>\n",
       "      <td>0</td>\n",
       "      <td>0</td>\n",
       "      <td>0</td>\n",
       "      <td>1</td>\n",
       "      <td>0</td>\n",
       "      <td>0</td>\n",
       "    </tr>\n",
       "    <tr>\n",
       "      <td>34541</td>\n",
       "      <td>0</td>\n",
       "      <td>0</td>\n",
       "      <td>0</td>\n",
       "      <td>0</td>\n",
       "      <td>0</td>\n",
       "      <td>0</td>\n",
       "      <td>0</td>\n",
       "      <td>0</td>\n",
       "      <td>0</td>\n",
       "      <td>0</td>\n",
       "    </tr>\n",
       "    <tr>\n",
       "      <td>34542</td>\n",
       "      <td>0</td>\n",
       "      <td>0</td>\n",
       "      <td>0</td>\n",
       "      <td>0</td>\n",
       "      <td>0</td>\n",
       "      <td>0</td>\n",
       "      <td>0</td>\n",
       "      <td>0</td>\n",
       "      <td>0</td>\n",
       "      <td>0</td>\n",
       "    </tr>\n",
       "    <tr>\n",
       "      <td>34543</td>\n",
       "      <td>0</td>\n",
       "      <td>0</td>\n",
       "      <td>0</td>\n",
       "      <td>0</td>\n",
       "      <td>0</td>\n",
       "      <td>0</td>\n",
       "      <td>0</td>\n",
       "      <td>0</td>\n",
       "      <td>0</td>\n",
       "      <td>0</td>\n",
       "    </tr>\n",
       "    <tr>\n",
       "      <td>34544</td>\n",
       "      <td>0</td>\n",
       "      <td>0</td>\n",
       "      <td>0</td>\n",
       "      <td>0</td>\n",
       "      <td>0</td>\n",
       "      <td>0</td>\n",
       "      <td>0</td>\n",
       "      <td>0</td>\n",
       "      <td>0</td>\n",
       "      <td>0</td>\n",
       "    </tr>\n",
       "  </tbody>\n",
       "</table>\n",
       "<p>34545 rows × 10 columns</p>\n",
       "</div>"
      ],
      "text/plain": [
       "       CVDINFR4  CVDCRHD4  CVDSTRK3  ASTHMA3  CHCSCNCR  CHCOCNCR  CHCCOPD1  \\\n",
       "0             0         0         0        0         0         0         0   \n",
       "1             0         0         0        0         0         0         0   \n",
       "2             0         0         0        0         0         0         0   \n",
       "3             0         0         0        0         0         0         0   \n",
       "4             0         0         0        0         0         0         0   \n",
       "...         ...       ...       ...      ...       ...       ...       ...   \n",
       "34540         0         0         0        0         0         0         0   \n",
       "34541         0         0         0        0         0         0         0   \n",
       "34542         0         0         0        0         0         0         0   \n",
       "34543         0         0         0        0         0         0         0   \n",
       "34544         0         0         0        0         0         0         0   \n",
       "\n",
       "       ADDEPEV2  DIABETE3  CHCKIDNY  \n",
       "0             1         0         0  \n",
       "1             0         0         0  \n",
       "2             0         0         0  \n",
       "3             0         0         0  \n",
       "4             0         0         0  \n",
       "...         ...       ...       ...  \n",
       "34540         1         0         0  \n",
       "34541         0         0         0  \n",
       "34542         0         0         0  \n",
       "34543         0         0         0  \n",
       "34544         0         0         0  \n",
       "\n",
       "[34545 rows x 10 columns]"
      ]
     },
     "execution_count": 30,
     "metadata": {},
     "output_type": "execute_result"
    }
   ],
   "source": [
    "# To get the the person who have chronically sickness, \n",
    "#if the cell value is not 1  return 0 ,if cell value is 1 return 1 \n",
    "d2=[]\n",
    "for i in d1.columns:\n",
    "    d2.append(d1[i].apply(lambda x: 0 if x!=1 else 1 ))\n",
    "#if we updated our data    \n",
    "pd.DataFrame(d2).transpose()"
   ]
  },
  {
   "cell_type": "code",
   "execution_count": 31,
   "metadata": {
    "scrolled": false
   },
   "outputs": [
    {
     "data": {
      "text/html": [
       "<div>\n",
       "<style scoped>\n",
       "    .dataframe tbody tr th:only-of-type {\n",
       "        vertical-align: middle;\n",
       "    }\n",
       "\n",
       "    .dataframe tbody tr th {\n",
       "        vertical-align: top;\n",
       "    }\n",
       "\n",
       "    .dataframe thead th {\n",
       "        text-align: right;\n",
       "    }\n",
       "</style>\n",
       "<table border=\"1\" class=\"dataframe\">\n",
       "  <thead>\n",
       "    <tr style=\"text-align: right;\">\n",
       "      <th></th>\n",
       "      <th>types</th>\n",
       "      <th>percentage</th>\n",
       "    </tr>\n",
       "  </thead>\n",
       "  <tbody>\n",
       "    <tr>\n",
       "      <td>0</td>\n",
       "      <td>CVDINFR4</td>\n",
       "      <td>0.049906</td>\n",
       "    </tr>\n",
       "    <tr>\n",
       "      <td>1</td>\n",
       "      <td>CVDCRHD4</td>\n",
       "      <td>0.050803</td>\n",
       "    </tr>\n",
       "    <tr>\n",
       "      <td>2</td>\n",
       "      <td>CVDSTRK3</td>\n",
       "      <td>0.034622</td>\n",
       "    </tr>\n",
       "    <tr>\n",
       "      <td>3</td>\n",
       "      <td>ASTHMA3</td>\n",
       "      <td>0.138978</td>\n",
       "    </tr>\n",
       "    <tr>\n",
       "      <td>4</td>\n",
       "      <td>CHCSCNCR</td>\n",
       "      <td>0.081285</td>\n",
       "    </tr>\n",
       "    <tr>\n",
       "      <td>5</td>\n",
       "      <td>CHCOCNCR</td>\n",
       "      <td>0.097641</td>\n",
       "    </tr>\n",
       "    <tr>\n",
       "      <td>6</td>\n",
       "      <td>CHCCOPD1</td>\n",
       "      <td>0.074280</td>\n",
       "    </tr>\n",
       "    <tr>\n",
       "      <td>7</td>\n",
       "      <td>ADDEPEV2</td>\n",
       "      <td>0.170936</td>\n",
       "    </tr>\n",
       "    <tr>\n",
       "      <td>8</td>\n",
       "      <td>DIABETE3</td>\n",
       "      <td>0.126241</td>\n",
       "    </tr>\n",
       "    <tr>\n",
       "      <td>9</td>\n",
       "      <td>CHCKIDNY</td>\n",
       "      <td>0.033927</td>\n",
       "    </tr>\n",
       "  </tbody>\n",
       "</table>\n",
       "</div>"
      ],
      "text/plain": [
       "      types  percentage\n",
       "0  CVDINFR4    0.049906\n",
       "1  CVDCRHD4    0.050803\n",
       "2  CVDSTRK3    0.034622\n",
       "3   ASTHMA3    0.138978\n",
       "4  CHCSCNCR    0.081285\n",
       "5  CHCOCNCR    0.097641\n",
       "6  CHCCOPD1    0.074280\n",
       "7  ADDEPEV2    0.170936\n",
       "8  DIABETE3    0.126241\n",
       "9  CHCKIDNY    0.033927"
      ]
     },
     "execution_count": 31,
     "metadata": {},
     "output_type": "execute_result"
    }
   ],
   "source": [
    "#generate a table contains different chronical skines and the frequency for each columns from table above\n",
    "ts=pd.DataFrame(pd.DataFrame(d2).transpose().mean(axis=0)).reset_index()\n",
    "ts.columns=['types','percentage']\n",
    "ts\n",
    "# example we can see   4.99% people have  means in every 100 epeople there are 5 people have CVDINFR4 "
   ]
  },
  {
   "cell_type": "code",
   "execution_count": 32,
   "metadata": {
    "scrolled": false
   },
   "outputs": [
    {
     "data": {
      "image/png": "[encoded data removed]",
      "text/plain": [
       "<Figure size 1080x288 with 1 Axes>"
      ]
     },
     "metadata": {},
     "output_type": "display_data"
    }
   ],
   "source": [
    "label = sickness_types\n",
    "x_label=ts['percentage']*100\n",
    "x = np.arange(len(label))  # the label locations\n",
    "width =1  # the width of the bars\n",
    "fig, ax = plt.subplots(figsize=(15,4))\n",
    "rects1 = ax.bar(x ,round(x_label) , width=0.8)\n",
    "\n",
    "\n",
    "# Add some text for labels, title and custom x-axis tick labels, etc.\n",
    "ax.set_ylabel('Pecentage of each chronical sickness'.title(),fontsize=20)\n",
    "ax.set_title('Types of chronical sickness '.title(),fontsize=20)\n",
    "ax.set_xticks(x)\n",
    "ax.tick_params(axis='both', which='major', labelsize=10,rotation=45)\n",
    "ax.set_xticklabels(label)\n",
    "\n",
    "\n",
    "def autolabel(rects):\n",
    "    \"\"\"Attach a text label above each bar in *rects*, displaying its height.\"\"\"\n",
    "    for rect in rects:\n",
    "        height = rect.get_height()\n",
    "        ax.annotate('{}%'.format(height),\n",
    "                    xy=(rect.get_x() + rect.get_width() / 2, height),\n",
    "                    xytext=(0, 2),  # 3 points vertical offset\n",
    "                    textcoords=\"offset points\",\n",
    "                    ha='center', va='bottom')\n",
    "\n",
    "\n",
    "autolabel(rects1)\n",
    "plt.show()"
   ]
  },
  {
   "cell_type": "markdown",
   "metadata": {},
   "source": [
    "## 5. Create a graphic that compares the percentage of people labeled as 'sick' in each state. "
   ]
  },
  {
   "cell_type": "code",
   "execution_count": 33,
   "metadata": {
    "scrolled": true
   },
   "outputs": [
    {
     "data": {
      "text/plain": [
       "0    17462\n",
       "1    17083\n",
       "Name: chro_dum, dtype: int64"
      ]
     },
     "execution_count": 33,
     "metadata": {},
     "output_type": "execute_result"
    }
   ],
   "source": [
    "# set up dummy for people have chronical sickness.\n",
    "#if a person have any cronical sickness will be considered as sick person then return 1 else return 0\n",
    "\n",
    "chro_dummy=pd.DataFrame(pd.DataFrame(d2).transpose().sum(axis=1).apply(lambda x: 1 if x!=0 else 0 ))\n",
    "chro_dummy.columns=['chro_dum']\n",
    "chro_dummy['chro_dum'].value_counts()\n"
   ]
  },
  {
   "cell_type": "code",
   "execution_count": 34,
   "metadata": {
    "scrolled": false
   },
   "outputs": [
    {
     "data": {
      "text/html": [
       "<div>\n",
       "<style scoped>\n",
       "    .dataframe tbody tr th:only-of-type {\n",
       "        vertical-align: middle;\n",
       "    }\n",
       "\n",
       "    .dataframe tbody tr th {\n",
       "        vertical-align: top;\n",
       "    }\n",
       "\n",
       "    .dataframe thead th {\n",
       "        text-align: right;\n",
       "    }\n",
       "</style>\n",
       "<table border=\"1\" class=\"dataframe\">\n",
       "  <thead>\n",
       "    <tr style=\"text-align: right;\">\n",
       "      <th></th>\n",
       "      <th>_STATE</th>\n",
       "    </tr>\n",
       "  </thead>\n",
       "  <tbody>\n",
       "    <tr>\n",
       "      <td>0</td>\n",
       "      <td>9.0</td>\n",
       "    </tr>\n",
       "    <tr>\n",
       "      <td>1</td>\n",
       "      <td>9.0</td>\n",
       "    </tr>\n",
       "    <tr>\n",
       "      <td>2</td>\n",
       "      <td>9.0</td>\n",
       "    </tr>\n",
       "    <tr>\n",
       "      <td>3</td>\n",
       "      <td>9.0</td>\n",
       "    </tr>\n",
       "    <tr>\n",
       "      <td>4</td>\n",
       "      <td>9.0</td>\n",
       "    </tr>\n",
       "  </tbody>\n",
       "</table>\n",
       "</div>"
      ],
      "text/plain": [
       "   _STATE\n",
       "0     9.0\n",
       "1     9.0\n",
       "2     9.0\n",
       "3     9.0\n",
       "4     9.0"
      ]
     },
     "execution_count": 34,
     "metadata": {},
     "output_type": "execute_result"
    }
   ],
   "source": [
    "st=pd.DataFrame(df_cleaned['_STATE']).reset_index().drop(columns='index')\n",
    "st.head()"
   ]
  },
  {
   "cell_type": "code",
   "execution_count": 35,
   "metadata": {},
   "outputs": [
    {
     "data": {
      "text/plain": [
       "_STATE  chro_dum\n",
       "9.0     1           0.510956\n",
       "        0           0.489044\n",
       "34.0    1           0.506918\n",
       "        0           0.493082\n",
       "36.0    0           0.531554\n",
       "        1           0.468446\n",
       "Name: chro_dum, dtype: float64"
      ]
     },
     "execution_count": 35,
     "metadata": {},
     "output_type": "execute_result"
    }
   ],
   "source": [
    "pd.DataFrame(st.join(chro_dummy,how='outer')).groupby('_STATE')['chro_dum'].value_counts(normalize=True)\n",
    "#table_pctg\n"
   ]
  },
  {
   "cell_type": "code",
   "execution_count": 36,
   "metadata": {},
   "outputs": [
    {
     "data": {
      "image/png": "[encoded data removed]",
      "text/plain": [
       "<Figure size 720x288 with 1 Axes>"
      ]
     },
     "metadata": {},
     "output_type": "display_data"
    }
   ],
   "source": [
    "# create graphic to compare chronically sick by state\n",
    "label2 = ['Connecticut','New Jersey','New York']\n",
    "percentage=[51.09,50.69,46.84]\n",
    "x = np.arange(len(label2))  # the label locations\n",
    "width = 0.1  # the width of the bars\n",
    "fig, ax = plt.subplots(figsize=(10,4))\n",
    "rects1 = ax.bar(x - width/20, percentage, width=0.4,color='darkblue',alpha=0.7)\n",
    "\n",
    "\n",
    "# Add some text for labels, title and custom x-axis tick labels, etc.\n",
    "ax.set_ylabel('%people have chronical sickness '.title())\n",
    "ax.set_title('Types of Chronical Sickness'.title())\n",
    "ax.set_xticks(x)\n",
    "ax.set_xticklabels(label2)\n",
    "\n",
    "\n",
    "def autolabel(rects):\n",
    "    \"\"\"Attach a text label above each bar in *rects*, displaying its height.\"\"\"\n",
    "    for rect in rects:\n",
    "        height = rect.get_height()\n",
    "        ax.annotate('{}%'.format(height),\n",
    "                    xy=(rect.get_x() + rect.get_width() / 2, height),\n",
    "                    xytext=(0, 2),  # 3 points vertical offset\n",
    "                    textcoords=\"offset points\",\n",
    "                    ha='center', va='bottom')\n",
    "\n",
    "autolabel(rects1)\n",
    "plt.show()"
   ]
  },
  {
   "cell_type": "markdown",
   "metadata": {},
   "source": [
    "## 6. Independent Variables (categorical)\n",
    "\n",
    "Let's take the column `SMOKDAY2` and start to prepare it so that we can see how it is possibly correlated to `PHYSHLTH`.\n",
    "\n",
    "1. Clean up the values. check\n",
    "2. Calculate the descriptive statistics of the variable. check\n",
    "3. Generate a histogram for the variable. check\n",
    "4. Generate graphics that show how the responses to this variable might differ by state. check\n",
    "5. Generate a graphic that compares the physical health of the different groups of 'smokers'."
   ]
  },
  {
   "cell_type": "code",
   "execution_count": 37,
   "metadata": {
    "scrolled": true
   },
   "outputs": [
    {
     "data": {
      "text/html": [
       "<div>\n",
       "<style scoped>\n",
       "    .dataframe tbody tr th:only-of-type {\n",
       "        vertical-align: middle;\n",
       "    }\n",
       "\n",
       "    .dataframe tbody tr th {\n",
       "        vertical-align: top;\n",
       "    }\n",
       "\n",
       "    .dataframe thead th {\n",
       "        text-align: right;\n",
       "    }\n",
       "</style>\n",
       "<table border=\"1\" class=\"dataframe\">\n",
       "  <thead>\n",
       "    <tr style=\"text-align: right;\">\n",
       "      <th></th>\n",
       "      <th>index</th>\n",
       "      <th>_STATE</th>\n",
       "      <th>IYEAR</th>\n",
       "      <th>SMOKDAY2</th>\n",
       "      <th>PHYSHLTH</th>\n",
       "    </tr>\n",
       "  </thead>\n",
       "  <tbody>\n",
       "    <tr>\n",
       "      <td>0</td>\n",
       "      <td>49938</td>\n",
       "      <td>9.0</td>\n",
       "      <td>2017</td>\n",
       "      <td>NaN</td>\n",
       "      <td>88.0</td>\n",
       "    </tr>\n",
       "    <tr>\n",
       "      <td>1</td>\n",
       "      <td>49939</td>\n",
       "      <td>9.0</td>\n",
       "      <td>2017</td>\n",
       "      <td>NaN</td>\n",
       "      <td>88.0</td>\n",
       "    </tr>\n",
       "    <tr>\n",
       "      <td>2</td>\n",
       "      <td>49940</td>\n",
       "      <td>9.0</td>\n",
       "      <td>2017</td>\n",
       "      <td>NaN</td>\n",
       "      <td>2.0</td>\n",
       "    </tr>\n",
       "    <tr>\n",
       "      <td>3</td>\n",
       "      <td>49941</td>\n",
       "      <td>9.0</td>\n",
       "      <td>2017</td>\n",
       "      <td>NaN</td>\n",
       "      <td>88.0</td>\n",
       "    </tr>\n",
       "    <tr>\n",
       "      <td>4</td>\n",
       "      <td>49942</td>\n",
       "      <td>9.0</td>\n",
       "      <td>2017</td>\n",
       "      <td>3.0</td>\n",
       "      <td>88.0</td>\n",
       "    </tr>\n",
       "  </tbody>\n",
       "</table>\n",
       "</div>"
      ],
      "text/plain": [
       "   index  _STATE  IYEAR  SMOKDAY2  PHYSHLTH\n",
       "0  49938     9.0   2017       NaN      88.0\n",
       "1  49939     9.0   2017       NaN      88.0\n",
       "2  49940     9.0   2017       NaN       2.0\n",
       "3  49941     9.0   2017       NaN      88.0\n",
       "4  49942     9.0   2017       3.0      88.0"
      ]
     },
     "execution_count": 37,
     "metadata": {},
     "output_type": "execute_result"
    }
   ],
   "source": [
    "#select the columns we need  \n",
    "#select the data from 2017 \n",
    "\n",
    "data6_1=df_cleaned[['_STATE','IYEAR','SMOKDAY2','PHYSHLTH']].reset_index()\n",
    "data6=data6_1[data6_1['IYEAR']==2017]\n",
    "data6.head()"
   ]
  },
  {
   "cell_type": "code",
   "execution_count": 38,
   "metadata": {
    "scrolled": true
   },
   "outputs": [
    {
     "data": {
      "text/plain": [
       "index           0\n",
       "_STATE          0\n",
       "IYEAR           0\n",
       "SMOKDAY2    20735\n",
       "PHYSHLTH        0\n",
       "dtype: int64"
      ]
     },
     "execution_count": 38,
     "metadata": {},
     "output_type": "execute_result"
    }
   ],
   "source": [
    "# check how many null inside the data6\n",
    "data6.isnull().sum()"
   ]
  },
  {
   "cell_type": "code",
   "execution_count": 39,
   "metadata": {
    "scrolled": true
   },
   "outputs": [
    {
     "data": {
      "text/plain": [
       "_STATE      0\n",
       "IYEAR       0\n",
       "SMOKDAY2    0\n",
       "PHYSHLTH    0\n",
       "dtype: int64"
      ]
     },
     "execution_count": 39,
     "metadata": {},
     "output_type": "execute_result"
    }
   ],
   "source": [
    "#remove all NaN values for data6 \n",
    "data6_na=data6.dropna(axis=0)\n",
    "data6_clean=data6_na.drop(columns='index')\n",
    "#double check if our data already cleaned \n",
    "data6_clean.isnull().sum()"
   ]
  },
  {
   "cell_type": "code",
   "execution_count": 40,
   "metadata": {
    "scrolled": true
   },
   "outputs": [
    {
     "data": {
      "text/plain": [
       "3.0    9694\n",
       "1.0    2669\n",
       "2.0    1370\n",
       "9.0      27\n",
       "7.0       6\n",
       "Name: SMOKDAY2, dtype: int64"
      ]
     },
     "execution_count": 40,
     "metadata": {},
     "output_type": "execute_result"
    }
   ],
   "source": [
    "data6_clean[\"SMOKDAY2\"].value_counts()"
   ]
  },
  {
   "cell_type": "code",
   "execution_count": 41,
   "metadata": {
    "scrolled": false
   },
   "outputs": [
    {
     "data": {
      "text/plain": [
       "Index(['_STATE', 'IYEAR', 'SMOKDAY2', 'PHYSHLTH'], dtype='object')"
      ]
     },
     "execution_count": 41,
     "metadata": {},
     "output_type": "execute_result"
    }
   ],
   "source": [
    "data6_clean.columns"
   ]
  },
  {
   "cell_type": "code",
   "execution_count": 42,
   "metadata": {},
   "outputs": [
    {
     "data": {
      "text/plain": [
       "_STATE       0\n",
       "IYEAR        0\n",
       "SMOKDAY2    33\n",
       "PHYSHLTH     0\n",
       "dtype: int64"
      ]
     },
     "execution_count": 42,
     "metadata": {},
     "output_type": "execute_result"
    }
   ],
   "source": [
    "data6_clean['SMOKDAY2']=data6_clean['SMOKDAY2'].apply(lambda x: 1 if (x ==1.0 or x == 2.0)  else(0 if x==3 else None))\n",
    "data6_clean['_STATE']=data6_clean['_STATE'].map({9.0:'CT',34.0:\"NJ\",36.0:'NY'})\n",
    "data6_clean['PHYSHLTH']=data6_clean['PHYSHLTH'].apply(lambda x: x if x in range(1,31)  else 0)\n",
    "data6_clean.isnull().sum()"
   ]
  },
  {
   "cell_type": "code",
   "execution_count": 43,
   "metadata": {
    "scrolled": true
   },
   "outputs": [
    {
     "data": {
      "text/html": [
       "<div>\n",
       "<style scoped>\n",
       "    .dataframe tbody tr th:only-of-type {\n",
       "        vertical-align: middle;\n",
       "    }\n",
       "\n",
       "    .dataframe tbody tr th {\n",
       "        vertical-align: top;\n",
       "    }\n",
       "\n",
       "    .dataframe thead th {\n",
       "        text-align: right;\n",
       "    }\n",
       "</style>\n",
       "<table border=\"1\" class=\"dataframe\">\n",
       "  <thead>\n",
       "    <tr style=\"text-align: right;\">\n",
       "      <th></th>\n",
       "      <th>_STATE</th>\n",
       "      <th>IYEAR</th>\n",
       "      <th>SMOKDAY2</th>\n",
       "      <th>PHYSHLTH</th>\n",
       "    </tr>\n",
       "  </thead>\n",
       "  <tbody>\n",
       "    <tr>\n",
       "      <td>4</td>\n",
       "      <td>CT</td>\n",
       "      <td>2017</td>\n",
       "      <td>0.0</td>\n",
       "      <td>0.0</td>\n",
       "    </tr>\n",
       "    <tr>\n",
       "      <td>6</td>\n",
       "      <td>CT</td>\n",
       "      <td>2017</td>\n",
       "      <td>0.0</td>\n",
       "      <td>0.0</td>\n",
       "    </tr>\n",
       "    <tr>\n",
       "      <td>8</td>\n",
       "      <td>CT</td>\n",
       "      <td>2017</td>\n",
       "      <td>0.0</td>\n",
       "      <td>28.0</td>\n",
       "    </tr>\n",
       "    <tr>\n",
       "      <td>13</td>\n",
       "      <td>CT</td>\n",
       "      <td>2017</td>\n",
       "      <td>0.0</td>\n",
       "      <td>0.0</td>\n",
       "    </tr>\n",
       "    <tr>\n",
       "      <td>16</td>\n",
       "      <td>CT</td>\n",
       "      <td>2017</td>\n",
       "      <td>0.0</td>\n",
       "      <td>0.0</td>\n",
       "    </tr>\n",
       "    <tr>\n",
       "      <td>...</td>\n",
       "      <td>...</td>\n",
       "      <td>...</td>\n",
       "      <td>...</td>\n",
       "      <td>...</td>\n",
       "    </tr>\n",
       "    <tr>\n",
       "      <td>34534</td>\n",
       "      <td>NY</td>\n",
       "      <td>2017</td>\n",
       "      <td>0.0</td>\n",
       "      <td>0.0</td>\n",
       "    </tr>\n",
       "    <tr>\n",
       "      <td>34535</td>\n",
       "      <td>NY</td>\n",
       "      <td>2017</td>\n",
       "      <td>0.0</td>\n",
       "      <td>10.0</td>\n",
       "    </tr>\n",
       "    <tr>\n",
       "      <td>34539</td>\n",
       "      <td>NY</td>\n",
       "      <td>2017</td>\n",
       "      <td>0.0</td>\n",
       "      <td>2.0</td>\n",
       "    </tr>\n",
       "    <tr>\n",
       "      <td>34540</td>\n",
       "      <td>NY</td>\n",
       "      <td>2017</td>\n",
       "      <td>1.0</td>\n",
       "      <td>0.0</td>\n",
       "    </tr>\n",
       "    <tr>\n",
       "      <td>34542</td>\n",
       "      <td>NY</td>\n",
       "      <td>2017</td>\n",
       "      <td>0.0</td>\n",
       "      <td>6.0</td>\n",
       "    </tr>\n",
       "  </tbody>\n",
       "</table>\n",
       "<p>13733 rows × 4 columns</p>\n",
       "</div>"
      ],
      "text/plain": [
       "      _STATE  IYEAR  SMOKDAY2  PHYSHLTH\n",
       "4         CT   2017       0.0       0.0\n",
       "6         CT   2017       0.0       0.0\n",
       "8         CT   2017       0.0      28.0\n",
       "13        CT   2017       0.0       0.0\n",
       "16        CT   2017       0.0       0.0\n",
       "...      ...    ...       ...       ...\n",
       "34534     NY   2017       0.0       0.0\n",
       "34535     NY   2017       0.0      10.0\n",
       "34539     NY   2017       0.0       2.0\n",
       "34540     NY   2017       1.0       0.0\n",
       "34542     NY   2017       0.0       6.0\n",
       "\n",
       "[13733 rows x 4 columns]"
      ]
     },
     "execution_count": 43,
     "metadata": {},
     "output_type": "execute_result"
    }
   ],
   "source": [
    "#check updated data\n",
    "data6_cleaned=data6_clean.dropna(axis=0)\n",
    "data6_cleaned"
   ]
  },
  {
   "cell_type": "code",
   "execution_count": 44,
   "metadata": {},
   "outputs": [],
   "source": [
    "##assign independent and dependent variables\n",
    "x_smk=data6_cleaned['SMOKDAY2'] # independent smoke or not \n",
    "y_phy=data6_cleaned['PHYSHLTH'] # dependent  Number of Days Physical Health Not Good"
   ]
  },
  {
   "cell_type": "code",
   "execution_count": 46,
   "metadata": {},
   "outputs": [
    {
     "data": {
      "text/html": [
       "<table class=\"simpletable\">\n",
       "<caption>OLS Regression Results</caption>\n",
       "<tr>\n",
       "  <th>Dep. Variable:</th>        <td>PHYSHLTH</td>     <th>  R-squared:         </th> <td>   0.008</td> \n",
       "</tr>\n",
       "<tr>\n",
       "  <th>Model:</th>                   <td>OLS</td>       <th>  Adj. R-squared:    </th> <td>   0.008</td> \n",
       "</tr>\n",
       "<tr>\n",
       "  <th>Method:</th>             <td>Least Squares</td>  <th>  F-statistic:       </th> <td>   115.1</td> \n",
       "</tr>\n",
       "<tr>\n",
       "  <th>Date:</th>             <td>Wed, 22 Jan 2020</td> <th>  Prob (F-statistic):</th> <td>9.79e-27</td> \n",
       "</tr>\n",
       "<tr>\n",
       "  <th>Time:</th>                 <td>14:33:30</td>     <th>  Log-Likelihood:    </th> <td> -50286.</td> \n",
       "</tr>\n",
       "<tr>\n",
       "  <th>No. Observations:</th>      <td> 13733</td>      <th>  AIC:               </th> <td>1.006e+05</td>\n",
       "</tr>\n",
       "<tr>\n",
       "  <th>Df Residuals:</th>          <td> 13731</td>      <th>  BIC:               </th> <td>1.006e+05</td>\n",
       "</tr>\n",
       "<tr>\n",
       "  <th>Df Model:</th>              <td>     1</td>      <th>                     </th>     <td> </td>    \n",
       "</tr>\n",
       "<tr>\n",
       "  <th>Covariance Type:</th>      <td>nonrobust</td>    <th>                     </th>     <td> </td>    \n",
       "</tr>\n",
       "</table>\n",
       "<table class=\"simpletable\">\n",
       "<tr>\n",
       "      <td></td>        <th>coef</th>     <th>std err</th>      <th>t</th>      <th>P>|t|</th>  <th>[0.025</th>    <th>0.975]</th>  \n",
       "</tr>\n",
       "<tr>\n",
       "  <th>const</th>    <td>    4.4868</td> <td>    0.096</td> <td>   46.897</td> <td> 0.000</td> <td>    4.299</td> <td>    4.674</td>\n",
       "</tr>\n",
       "<tr>\n",
       "  <th>SMOKDAY2</th> <td>    1.8923</td> <td>    0.176</td> <td>   10.726</td> <td> 0.000</td> <td>    1.546</td> <td>    2.238</td>\n",
       "</tr>\n",
       "</table>\n",
       "<table class=\"simpletable\">\n",
       "<tr>\n",
       "  <th>Omnibus:</th>       <td>4442.507</td> <th>  Durbin-Watson:     </th> <td>   1.991</td> \n",
       "</tr>\n",
       "<tr>\n",
       "  <th>Prob(Omnibus):</th>  <td> 0.000</td>  <th>  Jarque-Bera (JB):  </th> <td>10592.092</td>\n",
       "</tr>\n",
       "<tr>\n",
       "  <th>Skew:</th>           <td> 1.878</td>  <th>  Prob(JB):          </th> <td>    0.00</td> \n",
       "</tr>\n",
       "<tr>\n",
       "  <th>Kurtosis:</th>       <td> 5.097</td>  <th>  Cond. No.          </th> <td>    2.43</td> \n",
       "</tr>\n",
       "</table><br/><br/>Warnings:<br/>[1] Standard Errors assume that the covariance matrix of the errors is correctly specified."
      ],
      "text/plain": [
       "<class 'statsmodels.iolib.summary.Summary'>\n",
       "\"\"\"\n",
       "                            OLS Regression Results                            \n",
       "==============================================================================\n",
       "Dep. Variable:               PHYSHLTH   R-squared:                       0.008\n",
       "Model:                            OLS   Adj. R-squared:                  0.008\n",
       "Method:                 Least Squares   F-statistic:                     115.1\n",
       "Date:                Wed, 22 Jan 2020   Prob (F-statistic):           9.79e-27\n",
       "Time:                        14:33:30   Log-Likelihood:                -50286.\n",
       "No. Observations:               13733   AIC:                         1.006e+05\n",
       "Df Residuals:                   13731   BIC:                         1.006e+05\n",
       "Df Model:                           1                                         \n",
       "Covariance Type:            nonrobust                                         \n",
       "==============================================================================\n",
       "                 coef    std err          t      P>|t|      [0.025      0.975]\n",
       "------------------------------------------------------------------------------\n",
       "const          4.4868      0.096     46.897      0.000       4.299       4.674\n",
       "SMOKDAY2       1.8923      0.176     10.726      0.000       1.546       2.238\n",
       "==============================================================================\n",
       "Omnibus:                     4442.507   Durbin-Watson:                   1.991\n",
       "Prob(Omnibus):                  0.000   Jarque-Bera (JB):            10592.092\n",
       "Skew:                           1.878   Prob(JB):                         0.00\n",
       "Kurtosis:                       5.097   Cond. No.                         2.43\n",
       "==============================================================================\n",
       "\n",
       "Warnings:\n",
       "[1] Standard Errors assume that the covariance matrix of the errors is correctly specified.\n",
       "\"\"\""
      ]
     },
     "execution_count": 46,
     "metadata": {},
     "output_type": "execute_result"
    }
   ],
   "source": [
    "# Regression itself\n",
    "x=sm.add_constant(x_smk)\n",
    "results=sm.OLS(y_phy,x).fit()\n",
    "results.summary()\n",
    "\n",
    "# according to the result y_hat=1.8920*x_smk+4.4871 \n",
    "# the coeffienct is 1.8920 which means x_smk and y_phy positively increase at siginificant level  0.0000  \n",
    "# the more you smoke the more days you will be sick \n",
    "#if smoke x_smk =1 then y_hat=1.8920+4.4871=6.377\n",
    "#if not smoke  x_smk =0 y_hat=4.4871 means you bodycondition "
   ]
  },
  {
   "cell_type": "code",
   "execution_count": 47,
   "metadata": {},
   "outputs": [
    {
     "data": {
      "text/html": [
       "<div>\n",
       "<style scoped>\n",
       "    .dataframe tbody tr th:only-of-type {\n",
       "        vertical-align: middle;\n",
       "    }\n",
       "\n",
       "    .dataframe tbody tr th {\n",
       "        vertical-align: top;\n",
       "    }\n",
       "\n",
       "    .dataframe thead th {\n",
       "        text-align: right;\n",
       "    }\n",
       "</style>\n",
       "<table border=\"1\" class=\"dataframe\">\n",
       "  <thead>\n",
       "    <tr style=\"text-align: right;\">\n",
       "      <th></th>\n",
       "      <th>_STATE</th>\n",
       "      <th>SMOKDAY2</th>\n",
       "      <th>PHYSHLTH</th>\n",
       "    </tr>\n",
       "  </thead>\n",
       "  <tbody>\n",
       "    <tr>\n",
       "      <td>0</td>\n",
       "      <td>CT</td>\n",
       "      <td>0.247833</td>\n",
       "      <td>4.630348</td>\n",
       "    </tr>\n",
       "    <tr>\n",
       "      <td>1</td>\n",
       "      <td>NJ</td>\n",
       "      <td>0.297742</td>\n",
       "      <td>5.390681</td>\n",
       "    </tr>\n",
       "    <tr>\n",
       "      <td>2</td>\n",
       "      <td>NY</td>\n",
       "      <td>0.332275</td>\n",
       "      <td>5.065107</td>\n",
       "    </tr>\n",
       "  </tbody>\n",
       "</table>\n",
       "</div>"
      ],
      "text/plain": [
       "  _STATE  SMOKDAY2  PHYSHLTH\n",
       "0     CT  0.247833  4.630348\n",
       "1     NJ  0.297742  5.390681\n",
       "2     NY  0.332275  5.065107"
      ]
     },
     "execution_count": 47,
     "metadata": {},
     "output_type": "execute_result"
    }
   ],
   "source": [
    "s_smk=pd.DataFrame(data6_clean.groupby('_STATE')['SMOKDAY2'].mean()).reset_index()\n",
    "s_phy=pd.DataFrame(data6_clean.groupby('_STATE')['PHYSHLTH'].mean()).reset_index()\n",
    "combo1=pd.merge(s_smk,s_phy,how=\"outer\",on='_STATE')\n",
    "combo1"
   ]
  },
  {
   "cell_type": "code",
   "execution_count": 48,
   "metadata": {
    "scrolled": true
   },
   "outputs": [
    {
     "data": {
      "image/png": "[encoded data removed]",
      "text/plain": [
       "<Figure size 432x288 with 1 Axes>"
      ]
     },
     "metadata": {},
     "output_type": "display_data"
    }
   ],
   "source": [
    "#4.Generate graphics that show how the responses to this variable might differ by state. check\n",
    "label6 = ['Connecticut','New Jersey','New York']\n",
    "x = np.arange(len(label6))  # the label locations\n",
    "width = 0.35  # the width of the bars\n",
    "fig, ax = plt.subplots(figsize=(6,4))\n",
    "rects1 = ax.bar(x - width/2, round(combo1['SMOKDAY2'],2), width, label='sum of people who smoke often')\n",
    "rects2 = ax.bar(x + width/2, round(combo1['PHYSHLTH'],2), width, label='sum pysically sick days ')\n",
    "\n",
    "# Add some text for labels, title and custom x-axis tick labels, etc.\n",
    "ax.set_ylabel('')\n",
    "ax.set_title('Data of 2017')\n",
    "ax.set_xticks(x)\n",
    "ax.set_xticklabels(label6)\n",
    "ax.legend()\n",
    "\n",
    "def autolabel(rects):\n",
    "    \"\"\"Attach a text label above each bar in *rects*, displaying its height.\"\"\"\n",
    "    for rect in rects:\n",
    "        height = rect.get_height()\n",
    "        ax.annotate('{}'.format(height),\n",
    "                    xy=(rect.get_x() + rect.get_width() / 2, height),\n",
    "                    xytext=(0, 3),  # 3 points vertical offset\n",
    "                    textcoords=\"offset points\",\n",
    "                    ha='center', va='bottom')\n",
    "\n",
    "\n",
    "autolabel(rects1)\n",
    "autolabel(rects2)\n",
    "plt.legend(loc='center')\n",
    "plt.show()"
   ]
  },
  {
   "cell_type": "markdown",
   "metadata": {},
   "source": [
    "## 7. Independent Variables (continuous):\n",
    "\n",
    "Now let's look at a continuous variable (ALCDAY5) and see how that might impact a person's health. \n",
    "\n",
    "1. Clean up the values.\n",
    "2. Calculate the descriptive statistics of the variable.\n",
    "3. Generate a histogram for the variable.\n",
    "4. Generate graphics that show how the responses to this variable might differ by state.\n",
    "5. Calculate the correlation coefficient between `PHYSHLTH` and `ALCDAY5`.\n",
    "5. Generate a graphic that shows the possible relationship between `PHYSHLTH` and `ALCDAY5`."
   ]
  },
  {
   "cell_type": "code",
   "execution_count": 64,
   "metadata": {
    "scrolled": true
   },
   "outputs": [
    {
     "data": {
      "text/html": [
       "<div>\n",
       "<style scoped>\n",
       "    .dataframe tbody tr th:only-of-type {\n",
       "        vertical-align: middle;\n",
       "    }\n",
       "\n",
       "    .dataframe tbody tr th {\n",
       "        vertical-align: top;\n",
       "    }\n",
       "\n",
       "    .dataframe thead th {\n",
       "        text-align: right;\n",
       "    }\n",
       "</style>\n",
       "<table border=\"1\" class=\"dataframe\">\n",
       "  <thead>\n",
       "    <tr style=\"text-align: right;\">\n",
       "      <th></th>\n",
       "      <th>_STATE</th>\n",
       "      <th>IYEAR</th>\n",
       "      <th>IDAY</th>\n",
       "      <th>IMONTH</th>\n",
       "      <th>ALCDAY5</th>\n",
       "      <th>PHYSHLTH</th>\n",
       "    </tr>\n",
       "  </thead>\n",
       "  <tbody>\n",
       "    <tr>\n",
       "      <td>0</td>\n",
       "      <td>9.0</td>\n",
       "      <td>2017</td>\n",
       "      <td>17</td>\n",
       "      <td>5</td>\n",
       "      <td>101.0</td>\n",
       "      <td>88.0</td>\n",
       "    </tr>\n",
       "    <tr>\n",
       "      <td>1</td>\n",
       "      <td>9.0</td>\n",
       "      <td>2017</td>\n",
       "      <td>14</td>\n",
       "      <td>2</td>\n",
       "      <td>230.0</td>\n",
       "      <td>88.0</td>\n",
       "    </tr>\n",
       "    <tr>\n",
       "      <td>2</td>\n",
       "      <td>9.0</td>\n",
       "      <td>2017</td>\n",
       "      <td>29</td>\n",
       "      <td>1</td>\n",
       "      <td>888.0</td>\n",
       "      <td>2.0</td>\n",
       "    </tr>\n",
       "    <tr>\n",
       "      <td>3</td>\n",
       "      <td>9.0</td>\n",
       "      <td>2017</td>\n",
       "      <td>11</td>\n",
       "      <td>9</td>\n",
       "      <td>103.0</td>\n",
       "      <td>88.0</td>\n",
       "    </tr>\n",
       "    <tr>\n",
       "      <td>4</td>\n",
       "      <td>9.0</td>\n",
       "      <td>2017</td>\n",
       "      <td>18</td>\n",
       "      <td>7</td>\n",
       "      <td>101.0</td>\n",
       "      <td>88.0</td>\n",
       "    </tr>\n",
       "  </tbody>\n",
       "</table>\n",
       "</div>"
      ],
      "text/plain": [
       "   _STATE  IYEAR  IDAY  IMONTH  ALCDAY5  PHYSHLTH\n",
       "0     9.0   2017    17       5    101.0      88.0\n",
       "1     9.0   2017    14       2    230.0      88.0\n",
       "2     9.0   2017    29       1    888.0       2.0\n",
       "3     9.0   2017    11       9    103.0      88.0\n",
       "4     9.0   2017    18       7    101.0      88.0"
      ]
     },
     "execution_count": 64,
     "metadata": {},
     "output_type": "execute_result"
    }
   ],
   "source": [
    "#1. Clean up the values.\n",
    "data7_1=df_cleaned[['_STATE','IYEAR','IDAY','IMONTH','ALCDAY5','PHYSHLTH']].reset_index().drop(columns='index')\n",
    "data7=data7_1[data7_1['IYEAR']==2017]\n",
    "data7.head()\n"
   ]
  },
  {
   "cell_type": "code",
   "execution_count": 65,
   "metadata": {},
   "outputs": [
    {
     "data": {
      "text/plain": [
       "_STATE         0\n",
       "IYEAR          0\n",
       "IDAY           0\n",
       "IMONTH         0\n",
       "ALCDAY5     1901\n",
       "PHYSHLTH       0\n",
       "dtype: int64"
      ]
     },
     "execution_count": 65,
     "metadata": {},
     "output_type": "execute_result"
    }
   ],
   "source": [
    "#check if there are some missing data \n",
    "data7.isnull().sum()"
   ]
  },
  {
   "cell_type": "code",
   "execution_count": 66,
   "metadata": {
    "scrolled": true
   },
   "outputs": [
    {
     "data": {
      "text/plain": [
       "_STATE      0\n",
       "IYEAR       0\n",
       "IDAY        0\n",
       "IMONTH      0\n",
       "ALCDAY5     0\n",
       "PHYSHLTH    0\n",
       "dtype: int64"
      ]
     },
     "execution_count": 66,
     "metadata": {},
     "output_type": "execute_result"
    }
   ],
   "source": [
    "#clean the missing data \n",
    "#remove all NaN values for data6 \n",
    "data7_clean=data7.dropna(axis=0)\n",
    "\n",
    "#double check if our data already cleaned \n",
    "data7_clean.isnull().sum()"
   ]
  },
  {
   "cell_type": "code",
   "execution_count": 67,
   "metadata": {},
   "outputs": [
    {
     "data": {
      "text/plain": [
       "888.0    13031\n",
       "201.0     3022\n",
       "202.0     2316\n",
       "101.0     1594\n",
       "203.0     1349\n",
       "102.0     1232\n",
       "230.0     1164\n",
       "205.0     1156\n",
       "204.0     1144\n",
       "210.0      840\n",
       "103.0      782\n",
       "107.0      710\n",
       "220.0      648\n",
       "215.0      588\n",
       "206.0      387\n",
       "104.0      386\n",
       "208.0      369\n",
       "105.0      350\n",
       "207.0      277\n",
       "225.0      265\n",
       "777.0      225\n",
       "999.0      200\n",
       "212.0      144\n",
       "106.0      109\n",
       "228.0       56\n",
       "214.0       53\n",
       "229.0       31\n",
       "209.0       28\n",
       "227.0       24\n",
       "218.0       19\n",
       "216.0       15\n",
       "226.0       15\n",
       "224.0       14\n",
       "222.0       13\n",
       "221.0       13\n",
       "213.0       11\n",
       "211.0       10\n",
       "217.0        7\n",
       "223.0        2\n",
       "219.0        1\n",
       "Name: ALCDAY5, dtype: int64"
      ]
     },
     "execution_count": 67,
     "metadata": {},
     "output_type": "execute_result"
    }
   ],
   "source": [
    "data7_clean['ALCDAY5'].value_counts()"
   ]
  },
  {
   "cell_type": "code",
   "execution_count": 111,
   "metadata": {
    "scrolled": true
   },
   "outputs": [
    {
     "name": "stderr",
     "output_type": "stream",
     "text": [
      "/Users/yingyuxuan/anaconda3/lib/python3.7/site-packages/ipykernel_launcher.py:9: SettingWithCopyWarning: \n",
      "A value is trying to be set on a copy of a slice from a DataFrame.\n",
      "Try using .loc[row_indexer,col_indexer] = value instead\n",
      "\n",
      "See the caveats in the documentation: http://pandas.pydata.org/pandas-docs/stable/user_guide/indexing.html#returning-a-view-versus-a-copy\n",
      "  if __name__ == '__main__':\n"
     ]
    }
   ],
   "source": [
    "# see updated data\n",
    "data7_clean1=data7_clean[data7_clean['ALCDAY5']!=777.0]\n",
    "#    \n",
    "data7_clean2=data7_clean1[data7_clean1['ALCDAY5']!=999.0]\n",
    "\n",
    "\n",
    "#  if the person drinks often per week , then the value* 4 to calculate how many drink times in one month \n",
    "#if some people don't drink = 0  and people \n",
    "data7_clean2['ALCDAY5']=data7_clean2['ALCDAY5'].apply(lambda x : (x-100)*4 if (x>=101.0 and x<=107.0) else( x-200 if(x>=201.0 and x<=230) else 0))\n",
    "\n",
    "data7_clean3=data7_clean2.copy()"
   ]
  },
  {
   "cell_type": "code",
   "execution_count": 112,
   "metadata": {
    "scrolled": false
   },
   "outputs": [
    {
     "data": {
      "text/plain": [
       "Text(0, 0.5, 'Amount of People')"
      ]
     },
     "execution_count": 112,
     "metadata": {},
     "output_type": "execute_result"
    },
    {
     "data": {
      "image/png": "[encoded data removed]",
      "text/plain": [
       "<Figure size 432x288 with 1 Axes>"
      ]
     },
     "metadata": {},
     "output_type": "display_data"
    }
   ],
   "source": [
    "#Generate a histogram for the variable.\n",
    "#Each group peole \n",
    "plt.hist(data7_clean3['ALCDAY5'])\n",
    "plt.xlabel('Drink Days')\n",
    "plt.ylabel('Amount of People')\n"
   ]
  },
  {
   "cell_type": "code",
   "execution_count": 113,
   "metadata": {},
   "outputs": [
    {
     "data": {
      "text/html": [
       "<div>\n",
       "<style scoped>\n",
       "    .dataframe tbody tr th:only-of-type {\n",
       "        vertical-align: middle;\n",
       "    }\n",
       "\n",
       "    .dataframe tbody tr th {\n",
       "        vertical-align: top;\n",
       "    }\n",
       "\n",
       "    .dataframe thead th {\n",
       "        text-align: right;\n",
       "    }\n",
       "</style>\n",
       "<table border=\"1\" class=\"dataframe\">\n",
       "  <thead>\n",
       "    <tr style=\"text-align: right;\">\n",
       "      <th></th>\n",
       "      <th>_STATE</th>\n",
       "      <th>IYEAR</th>\n",
       "      <th>IDAY</th>\n",
       "      <th>IMONTH</th>\n",
       "      <th>ALCDAY5</th>\n",
       "      <th>PHYSHLTH</th>\n",
       "    </tr>\n",
       "  </thead>\n",
       "  <tbody>\n",
       "    <tr>\n",
       "      <td>0</td>\n",
       "      <td>9.0</td>\n",
       "      <td>2017</td>\n",
       "      <td>17</td>\n",
       "      <td>5</td>\n",
       "      <td>4.0</td>\n",
       "      <td>88.0</td>\n",
       "    </tr>\n",
       "    <tr>\n",
       "      <td>1</td>\n",
       "      <td>9.0</td>\n",
       "      <td>2017</td>\n",
       "      <td>14</td>\n",
       "      <td>2</td>\n",
       "      <td>30.0</td>\n",
       "      <td>88.0</td>\n",
       "    </tr>\n",
       "    <tr>\n",
       "      <td>2</td>\n",
       "      <td>9.0</td>\n",
       "      <td>2017</td>\n",
       "      <td>29</td>\n",
       "      <td>1</td>\n",
       "      <td>0.0</td>\n",
       "      <td>2.0</td>\n",
       "    </tr>\n",
       "    <tr>\n",
       "      <td>3</td>\n",
       "      <td>9.0</td>\n",
       "      <td>2017</td>\n",
       "      <td>11</td>\n",
       "      <td>9</td>\n",
       "      <td>12.0</td>\n",
       "      <td>88.0</td>\n",
       "    </tr>\n",
       "    <tr>\n",
       "      <td>4</td>\n",
       "      <td>9.0</td>\n",
       "      <td>2017</td>\n",
       "      <td>18</td>\n",
       "      <td>7</td>\n",
       "      <td>4.0</td>\n",
       "      <td>88.0</td>\n",
       "    </tr>\n",
       "    <tr>\n",
       "      <td>...</td>\n",
       "      <td>...</td>\n",
       "      <td>...</td>\n",
       "      <td>...</td>\n",
       "      <td>...</td>\n",
       "      <td>...</td>\n",
       "      <td>...</td>\n",
       "    </tr>\n",
       "    <tr>\n",
       "      <td>34539</td>\n",
       "      <td>36.0</td>\n",
       "      <td>2017</td>\n",
       "      <td>21</td>\n",
       "      <td>4</td>\n",
       "      <td>8.0</td>\n",
       "      <td>2.0</td>\n",
       "    </tr>\n",
       "    <tr>\n",
       "      <td>34540</td>\n",
       "      <td>36.0</td>\n",
       "      <td>2017</td>\n",
       "      <td>15</td>\n",
       "      <td>5</td>\n",
       "      <td>3.0</td>\n",
       "      <td>88.0</td>\n",
       "    </tr>\n",
       "    <tr>\n",
       "      <td>34541</td>\n",
       "      <td>36.0</td>\n",
       "      <td>2017</td>\n",
       "      <td>25</td>\n",
       "      <td>6</td>\n",
       "      <td>0.0</td>\n",
       "      <td>88.0</td>\n",
       "    </tr>\n",
       "    <tr>\n",
       "      <td>34542</td>\n",
       "      <td>36.0</td>\n",
       "      <td>2017</td>\n",
       "      <td>21</td>\n",
       "      <td>7</td>\n",
       "      <td>4.0</td>\n",
       "      <td>6.0</td>\n",
       "    </tr>\n",
       "    <tr>\n",
       "      <td>34544</td>\n",
       "      <td>36.0</td>\n",
       "      <td>2017</td>\n",
       "      <td>25</td>\n",
       "      <td>7</td>\n",
       "      <td>30.0</td>\n",
       "      <td>88.0</td>\n",
       "    </tr>\n",
       "  </tbody>\n",
       "</table>\n",
       "<p>32175 rows × 6 columns</p>\n",
       "</div>"
      ],
      "text/plain": [
       "       _STATE  IYEAR  IDAY  IMONTH  ALCDAY5  PHYSHLTH\n",
       "0         9.0   2017    17       5      4.0      88.0\n",
       "1         9.0   2017    14       2     30.0      88.0\n",
       "2         9.0   2017    29       1      0.0       2.0\n",
       "3         9.0   2017    11       9     12.0      88.0\n",
       "4         9.0   2017    18       7      4.0      88.0\n",
       "...       ...    ...   ...     ...      ...       ...\n",
       "34539    36.0   2017    21       4      8.0       2.0\n",
       "34540    36.0   2017    15       5      3.0      88.0\n",
       "34541    36.0   2017    25       6      0.0      88.0\n",
       "34542    36.0   2017    21       7      4.0       6.0\n",
       "34544    36.0   2017    25       7     30.0      88.0\n",
       "\n",
       "[32175 rows x 6 columns]"
      ]
     },
     "execution_count": 113,
     "metadata": {},
     "output_type": "execute_result"
    }
   ],
   "source": [
    "data7_clean3"
   ]
  },
  {
   "cell_type": "code",
   "execution_count": 114,
   "metadata": {
    "scrolled": true
   },
   "outputs": [
    {
     "data": {
      "text/html": [
       "<div>\n",
       "<style scoped>\n",
       "    .dataframe tbody tr th:only-of-type {\n",
       "        vertical-align: middle;\n",
       "    }\n",
       "\n",
       "    .dataframe tbody tr th {\n",
       "        vertical-align: top;\n",
       "    }\n",
       "\n",
       "    .dataframe thead th {\n",
       "        text-align: right;\n",
       "    }\n",
       "</style>\n",
       "<table border=\"1\" class=\"dataframe\">\n",
       "  <thead>\n",
       "    <tr style=\"text-align: right;\">\n",
       "      <th></th>\n",
       "      <th>_STATE</th>\n",
       "      <th>IYEAR</th>\n",
       "      <th>IDAY</th>\n",
       "      <th>IMONTH</th>\n",
       "      <th>ALCDAY5</th>\n",
       "      <th>PHYSHLTH</th>\n",
       "    </tr>\n",
       "  </thead>\n",
       "  <tbody>\n",
       "    <tr>\n",
       "      <td>0</td>\n",
       "      <td>CT</td>\n",
       "      <td>2017</td>\n",
       "      <td>17</td>\n",
       "      <td>5</td>\n",
       "      <td>4.0</td>\n",
       "      <td>88.0</td>\n",
       "    </tr>\n",
       "    <tr>\n",
       "      <td>1</td>\n",
       "      <td>CT</td>\n",
       "      <td>2017</td>\n",
       "      <td>14</td>\n",
       "      <td>2</td>\n",
       "      <td>30.0</td>\n",
       "      <td>88.0</td>\n",
       "    </tr>\n",
       "    <tr>\n",
       "      <td>2</td>\n",
       "      <td>CT</td>\n",
       "      <td>2017</td>\n",
       "      <td>29</td>\n",
       "      <td>1</td>\n",
       "      <td>0.0</td>\n",
       "      <td>2.0</td>\n",
       "    </tr>\n",
       "    <tr>\n",
       "      <td>3</td>\n",
       "      <td>CT</td>\n",
       "      <td>2017</td>\n",
       "      <td>11</td>\n",
       "      <td>9</td>\n",
       "      <td>12.0</td>\n",
       "      <td>88.0</td>\n",
       "    </tr>\n",
       "    <tr>\n",
       "      <td>4</td>\n",
       "      <td>CT</td>\n",
       "      <td>2017</td>\n",
       "      <td>18</td>\n",
       "      <td>7</td>\n",
       "      <td>4.0</td>\n",
       "      <td>88.0</td>\n",
       "    </tr>\n",
       "  </tbody>\n",
       "</table>\n",
       "</div>"
      ],
      "text/plain": [
       "  _STATE  IYEAR  IDAY  IMONTH  ALCDAY5  PHYSHLTH\n",
       "0     CT   2017    17       5      4.0      88.0\n",
       "1     CT   2017    14       2     30.0      88.0\n",
       "2     CT   2017    29       1      0.0       2.0\n",
       "3     CT   2017    11       9     12.0      88.0\n",
       "4     CT   2017    18       7      4.0      88.0"
      ]
     },
     "execution_count": 114,
     "metadata": {},
     "output_type": "execute_result"
    }
   ],
   "source": [
    "# map the state\n",
    "data7_clean3['_STATE']=data7_clean3['_STATE'].map({9.0:'CT',34.0:\"NJ\",36.0:'NY'})\n",
    "data7_clean3.head()"
   ]
  },
  {
   "cell_type": "code",
   "execution_count": 132,
   "metadata": {},
   "outputs": [
    {
     "data": {
      "text/html": [
       "<div>\n",
       "<style scoped>\n",
       "    .dataframe tbody tr th:only-of-type {\n",
       "        vertical-align: middle;\n",
       "    }\n",
       "\n",
       "    .dataframe tbody tr th {\n",
       "        vertical-align: top;\n",
       "    }\n",
       "\n",
       "    .dataframe thead th {\n",
       "        text-align: right;\n",
       "    }\n",
       "</style>\n",
       "<table border=\"1\" class=\"dataframe\">\n",
       "  <thead>\n",
       "    <tr style=\"text-align: right;\">\n",
       "      <th></th>\n",
       "      <th>_STATE</th>\n",
       "      <th>IYEAR</th>\n",
       "      <th>IDAY</th>\n",
       "      <th>IMONTH</th>\n",
       "      <th>ALCDAY5</th>\n",
       "      <th>PHYSHLTH</th>\n",
       "    </tr>\n",
       "  </thead>\n",
       "  <tbody>\n",
       "    <tr>\n",
       "      <td>0</td>\n",
       "      <td>CT</td>\n",
       "      <td>2017</td>\n",
       "      <td>17</td>\n",
       "      <td>5</td>\n",
       "      <td>4.0</td>\n",
       "      <td>0.0</td>\n",
       "    </tr>\n",
       "    <tr>\n",
       "      <td>1</td>\n",
       "      <td>CT</td>\n",
       "      <td>2017</td>\n",
       "      <td>14</td>\n",
       "      <td>2</td>\n",
       "      <td>30.0</td>\n",
       "      <td>0.0</td>\n",
       "    </tr>\n",
       "    <tr>\n",
       "      <td>2</td>\n",
       "      <td>CT</td>\n",
       "      <td>2017</td>\n",
       "      <td>29</td>\n",
       "      <td>1</td>\n",
       "      <td>0.0</td>\n",
       "      <td>2.0</td>\n",
       "    </tr>\n",
       "    <tr>\n",
       "      <td>3</td>\n",
       "      <td>CT</td>\n",
       "      <td>2017</td>\n",
       "      <td>11</td>\n",
       "      <td>9</td>\n",
       "      <td>12.0</td>\n",
       "      <td>0.0</td>\n",
       "    </tr>\n",
       "    <tr>\n",
       "      <td>4</td>\n",
       "      <td>CT</td>\n",
       "      <td>2017</td>\n",
       "      <td>18</td>\n",
       "      <td>7</td>\n",
       "      <td>4.0</td>\n",
       "      <td>0.0</td>\n",
       "    </tr>\n",
       "  </tbody>\n",
       "</table>\n",
       "</div>"
      ],
      "text/plain": [
       "  _STATE  IYEAR  IDAY  IMONTH  ALCDAY5  PHYSHLTH\n",
       "0     CT   2017    17       5      4.0       0.0\n",
       "1     CT   2017    14       2     30.0       0.0\n",
       "2     CT   2017    29       1      0.0       2.0\n",
       "3     CT   2017    11       9     12.0       0.0\n",
       "4     CT   2017    18       7      4.0       0.0"
      ]
     },
     "execution_count": 132,
     "metadata": {},
     "output_type": "execute_result"
    }
   ],
   "source": [
    "#set up the value we need to use \n",
    "data7_clean3['PHYSHLTH']=data7_clean3['PHYSHLTH'].apply(lambda x: x if x in range(1,31) else 0)\n",
    "data7_clean3.head()"
   ]
  },
  {
   "cell_type": "code",
   "execution_count": 118,
   "metadata": {
    "scrolled": true
   },
   "outputs": [
    {
     "data": {
      "text/html": [
       "<div>\n",
       "<style scoped>\n",
       "    .dataframe tbody tr th:only-of-type {\n",
       "        vertical-align: middle;\n",
       "    }\n",
       "\n",
       "    .dataframe tbody tr th {\n",
       "        vertical-align: top;\n",
       "    }\n",
       "\n",
       "    .dataframe thead th {\n",
       "        text-align: right;\n",
       "    }\n",
       "</style>\n",
       "<table border=\"1\" class=\"dataframe\">\n",
       "  <thead>\n",
       "    <tr style=\"text-align: right;\">\n",
       "      <th></th>\n",
       "      <th>_STATE</th>\n",
       "      <th>ALCDAY5</th>\n",
       "    </tr>\n",
       "  </thead>\n",
       "  <tbody>\n",
       "    <tr>\n",
       "      <td>0</td>\n",
       "      <td>CT</td>\n",
       "      <td>6.011149</td>\n",
       "    </tr>\n",
       "    <tr>\n",
       "      <td>1</td>\n",
       "      <td>NJ</td>\n",
       "      <td>4.887219</td>\n",
       "    </tr>\n",
       "    <tr>\n",
       "      <td>2</td>\n",
       "      <td>NY</td>\n",
       "      <td>5.072729</td>\n",
       "    </tr>\n",
       "  </tbody>\n",
       "</table>\n",
       "</div>"
      ],
      "text/plain": [
       "  _STATE   ALCDAY5\n",
       "0     CT  6.011149\n",
       "1     NJ  4.887219\n",
       "2     NY  5.072729"
      ]
     },
     "execution_count": 118,
     "metadata": {},
     "output_type": "execute_result"
    }
   ],
   "source": [
    "#Generate graphics that show how the responses to this variable might differ by state.\n",
    "state_alco=pd.DataFrame(data7_clean3.groupby('_STATE')['ALCDAY5'].mean()).reset_index()\n",
    "state_alco"
   ]
  },
  {
   "cell_type": "code",
   "execution_count": 124,
   "metadata": {
    "scrolled": true
   },
   "outputs": [
    {
     "data": {
      "text/plain": [
       "Text(0, 0.5, 'Mean of each states')"
      ]
     },
     "execution_count": 124,
     "metadata": {},
     "output_type": "execute_result"
    },
    {
     "data": {
      "image/png": "[encoded data removed]",
      "text/plain": [
       "<Figure size 432x288 with 1 Axes>"
      ]
     },
     "metadata": {},
     "output_type": "display_data"
    }
   ],
   "source": [
    "plt.bar(state_alco['_STATE'],state_alco['ALCDAY5'])\n",
    "plt.xlabel('States')\n",
    "plt.ylabel('Mean of each states')\n",
    "#CT : each person drink (6) six days each month \n",
    "#NJ: each person drink (5) five days each month\n",
    "#NY: each person drink (5) five days each month"
   ]
  },
  {
   "cell_type": "code",
   "execution_count": 146,
   "metadata": {},
   "outputs": [
    {
     "data": {
      "text/plain": [
       "STATE  ALCDAY5\n",
       "CT     1          0.636124\n",
       "       0          0.363876\n",
       "NJ     1          0.574493\n",
       "       0          0.425507\n",
       "NY     1          0.579078\n",
       "       0          0.420922\n",
       "Name: ALCDAY5, dtype: float64"
      ]
     },
     "execution_count": 146,
     "metadata": {},
     "output_type": "execute_result"
    }
   ],
   "source": [
    "# To see the number for each state \n",
    "\n",
    "#create an empty dataframe\n",
    "data_dum=pd.DataFrame()\n",
    "#add a column named 'ALCDAY5' and get dummy varibel for it to see how many people drink if drink 1 , dont drink 0 \n",
    "data_dum['ALCDAY5']=data7_clean3['ALCDAY5'].apply(lambda x: 0 if x==0.0 else 1)\n",
    "\n",
    "# add another column named state\n",
    "data_dum['STATE']=data7_clean3['_STATE']\n",
    "# check the percentage of the people drink  and the people don't drink \n",
    "data_dum.groupby('STATE')['ALCDAY5'].value_counts(normalize=True)"
   ]
  },
  {
   "cell_type": "code",
   "execution_count": 147,
   "metadata": {},
   "outputs": [
    {
     "data": {
      "image/png": "[encoded data removed]",
      "text/plain": [
       "<Figure size 432x288 with 1 Axes>"
      ]
     },
     "metadata": {},
     "output_type": "display_data"
    }
   ],
   "source": [
    "# from the result above \n",
    "states_list = ['Connecticut','New Jersey','New York']\n",
    "alcoh_1=[63.61,57.44,57.9]\n",
    "alcoh_0=[36.38,42.55,42.09]\n",
    "x = np.arange(len(states_list))  # the label locations\n",
    "width = 0.35  # the width of the bars\n",
    "fig, ax = plt.subplots(figsize=(6,4))\n",
    "rects1 = ax.bar(x - width/2, alcoh_1, width, color='r', label='% Drink alcohol')\n",
    "rects2 = ax.bar(x + width/2, alcoh_0, width,color='g' ,label='% Don\\'t drink alcohol')\n",
    "\n",
    "# Add some text for labels, title and custom x-axis tick labels, etc.\n",
    "ax.set_ylabel('Percentage')\n",
    "ax.set_title('Percentage of people who drink alcohol'.title())\n",
    "ax.set_xticks(x)\n",
    "ax.set_xticklabels(states_list)\n",
    "ax.legend()\n",
    "\n",
    "def autolabel(rects):\n",
    "    \"\"\"Attach a text label above each bar in *rects*, displaying its height.\"\"\"\n",
    "    for rect in rects:\n",
    "        height = rect.get_height()\n",
    "        ax.annotate('{}%'.format(height),\n",
    "                    xy=(rect.get_x() + rect.get_width() / 2, height),\n",
    "                    xytext=(0, 3),  # 3 points vertical offset\n",
    "                    textcoords=\"offset points\",\n",
    "                    ha='center', va='bottom')\n",
    "\n",
    "\n",
    "autolabel(rects1)\n",
    "autolabel(rects2)\n",
    "plt.legend(loc='lower left')\n",
    "plt.show()\n",
    "\n"
   ]
  },
  {
   "cell_type": "code",
   "execution_count": 148,
   "metadata": {},
   "outputs": [],
   "source": [
    "#regression itself \n",
    "# set up independent and dependent variables\n",
    "x1=data7_clean3['ALCDAY5']\n",
    "y=data7_clean3['PHYSHLTH']"
   ]
  },
  {
   "cell_type": "code",
   "execution_count": 149,
   "metadata": {
    "scrolled": true
   },
   "outputs": [
    {
     "data": {
      "text/html": [
       "<table class=\"simpletable\">\n",
       "<caption>OLS Regression Results</caption>\n",
       "<tr>\n",
       "  <th>Dep. Variable:</th>        <td>PHYSHLTH</td>     <th>  R-squared:         </th>  <td>   0.008</td>  \n",
       "</tr>\n",
       "<tr>\n",
       "  <th>Model:</th>                   <td>OLS</td>       <th>  Adj. R-squared:    </th>  <td>   0.008</td>  \n",
       "</tr>\n",
       "<tr>\n",
       "  <th>Method:</th>             <td>Least Squares</td>  <th>  F-statistic:       </th>  <td>   245.2</td>  \n",
       "</tr>\n",
       "<tr>\n",
       "  <th>Date:</th>             <td>Wed, 22 Jan 2020</td> <th>  Prob (F-statistic):</th>  <td>4.72e-55</td>  \n",
       "</tr>\n",
       "<tr>\n",
       "  <th>Time:</th>                 <td>17:03:22</td>     <th>  Log-Likelihood:    </th> <td>-1.1423e+05</td>\n",
       "</tr>\n",
       "<tr>\n",
       "  <th>No. Observations:</th>      <td> 32175</td>      <th>  AIC:               </th>  <td>2.285e+05</td> \n",
       "</tr>\n",
       "<tr>\n",
       "  <th>Df Residuals:</th>          <td> 32173</td>      <th>  BIC:               </th>  <td>2.285e+05</td> \n",
       "</tr>\n",
       "<tr>\n",
       "  <th>Df Model:</th>              <td>     1</td>      <th>                     </th>      <td> </td>     \n",
       "</tr>\n",
       "<tr>\n",
       "  <th>Covariance Type:</th>      <td>nonrobust</td>    <th>                     </th>      <td> </td>     \n",
       "</tr>\n",
       "</table>\n",
       "<table class=\"simpletable\">\n",
       "<tr>\n",
       "     <td></td>        <th>coef</th>     <th>std err</th>      <th>t</th>      <th>P>|t|</th>  <th>[0.025</th>    <th>0.975]</th>  \n",
       "</tr>\n",
       "<tr>\n",
       "  <th>const</th>   <td>    4.4984</td> <td>    0.056</td> <td>   80.371</td> <td> 0.000</td> <td>    4.389</td> <td>    4.608</td>\n",
       "</tr>\n",
       "<tr>\n",
       "  <th>ALCDAY5</th> <td>   -0.0899</td> <td>    0.006</td> <td>  -15.658</td> <td> 0.000</td> <td>   -0.101</td> <td>   -0.079</td>\n",
       "</tr>\n",
       "</table>\n",
       "<table class=\"simpletable\">\n",
       "<tr>\n",
       "  <th>Omnibus:</th>       <td>13992.439</td> <th>  Durbin-Watson:     </th> <td>   1.977</td> \n",
       "</tr>\n",
       "<tr>\n",
       "  <th>Prob(Omnibus):</th>  <td> 0.000</td>   <th>  Jarque-Bera (JB):  </th> <td>49798.068</td>\n",
       "</tr>\n",
       "<tr>\n",
       "  <th>Skew:</th>           <td> 2.295</td>   <th>  Prob(JB):          </th> <td>    0.00</td> \n",
       "</tr>\n",
       "<tr>\n",
       "  <th>Kurtosis:</th>       <td> 7.010</td>   <th>  Cond. No.          </th> <td>    11.6</td> \n",
       "</tr>\n",
       "</table><br/><br/>Warnings:<br/>[1] Standard Errors assume that the covariance matrix of the errors is correctly specified."
      ],
      "text/plain": [
       "<class 'statsmodels.iolib.summary.Summary'>\n",
       "\"\"\"\n",
       "                            OLS Regression Results                            \n",
       "==============================================================================\n",
       "Dep. Variable:               PHYSHLTH   R-squared:                       0.008\n",
       "Model:                            OLS   Adj. R-squared:                  0.008\n",
       "Method:                 Least Squares   F-statistic:                     245.2\n",
       "Date:                Wed, 22 Jan 2020   Prob (F-statistic):           4.72e-55\n",
       "Time:                        17:03:22   Log-Likelihood:            -1.1423e+05\n",
       "No. Observations:               32175   AIC:                         2.285e+05\n",
       "Df Residuals:                   32173   BIC:                         2.285e+05\n",
       "Df Model:                           1                                         \n",
       "Covariance Type:            nonrobust                                         \n",
       "==============================================================================\n",
       "                 coef    std err          t      P>|t|      [0.025      0.975]\n",
       "------------------------------------------------------------------------------\n",
       "const          4.4984      0.056     80.371      0.000       4.389       4.608\n",
       "ALCDAY5       -0.0899      0.006    -15.658      0.000      -0.101      -0.079\n",
       "==============================================================================\n",
       "Omnibus:                    13992.439   Durbin-Watson:                   1.977\n",
       "Prob(Omnibus):                  0.000   Jarque-Bera (JB):            49798.068\n",
       "Skew:                           2.295   Prob(JB):                         0.00\n",
       "Kurtosis:                       7.010   Cond. No.                         11.6\n",
       "==============================================================================\n",
       "\n",
       "Warnings:\n",
       "[1] Standard Errors assume that the covariance matrix of the errors is correctly specified.\n",
       "\"\"\""
      ]
     },
     "execution_count": 149,
     "metadata": {},
     "output_type": "execute_result"
    }
   ],
   "source": [
    "# Add a constant. Esentially, we are adding a new column (equal in lenght to x), which consists only of 1s\n",
    "x = sm.add_constant(x1)\n",
    "# Fit the model, according to the OLS (ordinary least squares) method with a dependent variable y and an idependent x\n",
    "results = sm.OLS(y,x).fit()\n",
    "# Print a nice summary of the regression.\n",
    "results.summary()\n",
    "\n",
    "### we can see the coeff is 0.005  at the significant level 0.000  \n",
    "### the mor alcohol you drink the more days you are sick "
   ]
  },
  {
   "cell_type": "markdown",
   "metadata": {},
   "source": [
    "## 8. Additional variables: Choose two additional survey items you would like to investigate do steps  6 or 7 for those variables."
   ]
  },
  {
   "cell_type": "code",
   "execution_count": 60,
   "metadata": {},
   "outputs": [],
   "source": [
    "# Investigate the relationship between income level and health \n",
    "##Income Level   ['INCOME2'] \n",
    "##1:$10,000 / \n",
    "#2:$15,000 /\n",
    "#3:  $20,000 /\n",
    "#4:$25,000/\n",
    "#5: $35,000 /\n",
    "#6:$50,000/\n",
    "#7:$75,000/\n",
    "#8:75,001/\n",
    "#77:dont know/\n",
    "#99:refused"
   ]
  },
  {
   "cell_type": "code",
   "execution_count": 61,
   "metadata": {
    "scrolled": true
   },
   "outputs": [
    {
     "data": {
      "text/html": [
       "<div>\n",
       "<style scoped>\n",
       "    .dataframe tbody tr th:only-of-type {\n",
       "        vertical-align: middle;\n",
       "    }\n",
       "\n",
       "    .dataframe tbody tr th {\n",
       "        vertical-align: top;\n",
       "    }\n",
       "\n",
       "    .dataframe thead th {\n",
       "        text-align: right;\n",
       "    }\n",
       "</style>\n",
       "<table border=\"1\" class=\"dataframe\">\n",
       "  <thead>\n",
       "    <tr style=\"text-align: right;\">\n",
       "      <th></th>\n",
       "      <th>_STATE</th>\n",
       "      <th>IYEAR</th>\n",
       "      <th>PHYSHLTH</th>\n",
       "      <th>INCOME2</th>\n",
       "      <th>MEDCOST</th>\n",
       "      <th>EDUCA</th>\n",
       "      <th>_AGE_G</th>\n",
       "    </tr>\n",
       "  </thead>\n",
       "  <tbody>\n",
       "    <tr>\n",
       "      <td>49938</td>\n",
       "      <td>9.0</td>\n",
       "      <td>2017</td>\n",
       "      <td>88.0</td>\n",
       "      <td>7.0</td>\n",
       "      <td>2.0</td>\n",
       "      <td>6.0</td>\n",
       "      <td>2.0</td>\n",
       "    </tr>\n",
       "    <tr>\n",
       "      <td>49939</td>\n",
       "      <td>9.0</td>\n",
       "      <td>2017</td>\n",
       "      <td>88.0</td>\n",
       "      <td>8.0</td>\n",
       "      <td>2.0</td>\n",
       "      <td>5.0</td>\n",
       "      <td>4.0</td>\n",
       "    </tr>\n",
       "    <tr>\n",
       "      <td>49940</td>\n",
       "      <td>9.0</td>\n",
       "      <td>2017</td>\n",
       "      <td>2.0</td>\n",
       "      <td>77.0</td>\n",
       "      <td>2.0</td>\n",
       "      <td>6.0</td>\n",
       "      <td>1.0</td>\n",
       "    </tr>\n",
       "    <tr>\n",
       "      <td>49941</td>\n",
       "      <td>9.0</td>\n",
       "      <td>2017</td>\n",
       "      <td>88.0</td>\n",
       "      <td>8.0</td>\n",
       "      <td>2.0</td>\n",
       "      <td>6.0</td>\n",
       "      <td>5.0</td>\n",
       "    </tr>\n",
       "    <tr>\n",
       "      <td>49942</td>\n",
       "      <td>9.0</td>\n",
       "      <td>2017</td>\n",
       "      <td>88.0</td>\n",
       "      <td>8.0</td>\n",
       "      <td>2.0</td>\n",
       "      <td>5.0</td>\n",
       "      <td>5.0</td>\n",
       "    </tr>\n",
       "  </tbody>\n",
       "</table>\n",
       "</div>"
      ],
      "text/plain": [
       "       _STATE  IYEAR  PHYSHLTH  INCOME2  MEDCOST  EDUCA  _AGE_G\n",
       "49938     9.0   2017      88.0      7.0      2.0    6.0     2.0\n",
       "49939     9.0   2017      88.0      8.0      2.0    5.0     4.0\n",
       "49940     9.0   2017       2.0     77.0      2.0    6.0     1.0\n",
       "49941     9.0   2017      88.0      8.0      2.0    6.0     5.0\n",
       "49942     9.0   2017      88.0      8.0      2.0    5.0     5.0"
      ]
     },
     "execution_count": 61,
     "metadata": {},
     "output_type": "execute_result"
    }
   ],
   "source": [
    "# select the variable we need \n",
    "\n",
    "data8_raw1=df_cleaned[['_STATE','IYEAR','PHYSHLTH','INCOME2','MEDCOST','EDUCA','_AGE_G']]\n",
    "data8_raw1.head()"
   ]
  },
  {
   "cell_type": "code",
   "execution_count": 62,
   "metadata": {},
   "outputs": [
    {
     "data": {
      "text/html": [
       "<div>\n",
       "<style scoped>\n",
       "    .dataframe tbody tr th:only-of-type {\n",
       "        vertical-align: middle;\n",
       "    }\n",
       "\n",
       "    .dataframe tbody tr th {\n",
       "        vertical-align: top;\n",
       "    }\n",
       "\n",
       "    .dataframe thead th {\n",
       "        text-align: right;\n",
       "    }\n",
       "</style>\n",
       "<table border=\"1\" class=\"dataframe\">\n",
       "  <thead>\n",
       "    <tr style=\"text-align: right;\">\n",
       "      <th></th>\n",
       "      <th>_STATE</th>\n",
       "      <th>IYEAR</th>\n",
       "      <th>PHYSHLTH</th>\n",
       "      <th>INCOME2</th>\n",
       "      <th>MEDCOST</th>\n",
       "      <th>EDUCA</th>\n",
       "      <th>_AGE_G</th>\n",
       "    </tr>\n",
       "  </thead>\n",
       "  <tbody>\n",
       "    <tr>\n",
       "      <td>49938</td>\n",
       "      <td>9.0</td>\n",
       "      <td>2017</td>\n",
       "      <td>88.0</td>\n",
       "      <td>7.0</td>\n",
       "      <td>2.0</td>\n",
       "      <td>6.0</td>\n",
       "      <td>2.0</td>\n",
       "    </tr>\n",
       "    <tr>\n",
       "      <td>49939</td>\n",
       "      <td>9.0</td>\n",
       "      <td>2017</td>\n",
       "      <td>88.0</td>\n",
       "      <td>8.0</td>\n",
       "      <td>2.0</td>\n",
       "      <td>5.0</td>\n",
       "      <td>4.0</td>\n",
       "    </tr>\n",
       "    <tr>\n",
       "      <td>49940</td>\n",
       "      <td>9.0</td>\n",
       "      <td>2017</td>\n",
       "      <td>2.0</td>\n",
       "      <td>77.0</td>\n",
       "      <td>2.0</td>\n",
       "      <td>6.0</td>\n",
       "      <td>1.0</td>\n",
       "    </tr>\n",
       "    <tr>\n",
       "      <td>49941</td>\n",
       "      <td>9.0</td>\n",
       "      <td>2017</td>\n",
       "      <td>88.0</td>\n",
       "      <td>8.0</td>\n",
       "      <td>2.0</td>\n",
       "      <td>6.0</td>\n",
       "      <td>5.0</td>\n",
       "    </tr>\n",
       "    <tr>\n",
       "      <td>49942</td>\n",
       "      <td>9.0</td>\n",
       "      <td>2017</td>\n",
       "      <td>88.0</td>\n",
       "      <td>8.0</td>\n",
       "      <td>2.0</td>\n",
       "      <td>5.0</td>\n",
       "      <td>5.0</td>\n",
       "    </tr>\n",
       "  </tbody>\n",
       "</table>\n",
       "</div>"
      ],
      "text/plain": [
       "       _STATE  IYEAR  PHYSHLTH  INCOME2  MEDCOST  EDUCA  _AGE_G\n",
       "49938     9.0   2017      88.0      7.0      2.0    6.0     2.0\n",
       "49939     9.0   2017      88.0      8.0      2.0    5.0     4.0\n",
       "49940     9.0   2017       2.0     77.0      2.0    6.0     1.0\n",
       "49941     9.0   2017      88.0      8.0      2.0    6.0     5.0\n",
       "49942     9.0   2017      88.0      8.0      2.0    5.0     5.0"
      ]
     },
     "execution_count": 62,
     "metadata": {},
     "output_type": "execute_result"
    }
   ],
   "source": [
    "data8_raw=data8_raw1[data8_raw1['IYEAR']==2017]\n",
    "data8_raw.head()"
   ]
  },
  {
   "cell_type": "code",
   "execution_count": 63,
   "metadata": {},
   "outputs": [
    {
     "data": {
      "text/plain": [
       "(34501, 7)"
      ]
     },
     "execution_count": 63,
     "metadata": {},
     "output_type": "execute_result"
    }
   ],
   "source": [
    "data8_raw.shape"
   ]
  },
  {
   "cell_type": "code",
   "execution_count": 64,
   "metadata": {},
   "outputs": [
    {
     "data": {
      "text/plain": [
       "_STATE        0\n",
       "IYEAR         0\n",
       "PHYSHLTH      0\n",
       "INCOME2     315\n",
       "MEDCOST       0\n",
       "EDUCA         0\n",
       "_AGE_G        0\n",
       "dtype: int64"
      ]
     },
     "execution_count": 64,
     "metadata": {},
     "output_type": "execute_result"
    }
   ],
   "source": [
    "data8_raw.isnull().sum()"
   ]
  },
  {
   "cell_type": "code",
   "execution_count": 65,
   "metadata": {},
   "outputs": [
    {
     "data": {
      "text/html": [
       "<div>\n",
       "<style scoped>\n",
       "    .dataframe tbody tr th:only-of-type {\n",
       "        vertical-align: middle;\n",
       "    }\n",
       "\n",
       "    .dataframe tbody tr th {\n",
       "        vertical-align: top;\n",
       "    }\n",
       "\n",
       "    .dataframe thead th {\n",
       "        text-align: right;\n",
       "    }\n",
       "</style>\n",
       "<table border=\"1\" class=\"dataframe\">\n",
       "  <thead>\n",
       "    <tr style=\"text-align: right;\">\n",
       "      <th></th>\n",
       "      <th>_STATE</th>\n",
       "      <th>IYEAR</th>\n",
       "      <th>PHYSHLTH</th>\n",
       "      <th>INCOME2</th>\n",
       "      <th>MEDCOST</th>\n",
       "      <th>EDUCA</th>\n",
       "      <th>_AGE_G</th>\n",
       "    </tr>\n",
       "  </thead>\n",
       "  <tbody>\n",
       "    <tr>\n",
       "      <td>49938</td>\n",
       "      <td>9.0</td>\n",
       "      <td>2017</td>\n",
       "      <td>88.0</td>\n",
       "      <td>7.0</td>\n",
       "      <td>2.0</td>\n",
       "      <td>6.0</td>\n",
       "      <td>2.0</td>\n",
       "    </tr>\n",
       "    <tr>\n",
       "      <td>49939</td>\n",
       "      <td>9.0</td>\n",
       "      <td>2017</td>\n",
       "      <td>88.0</td>\n",
       "      <td>8.0</td>\n",
       "      <td>2.0</td>\n",
       "      <td>5.0</td>\n",
       "      <td>4.0</td>\n",
       "    </tr>\n",
       "    <tr>\n",
       "      <td>49940</td>\n",
       "      <td>9.0</td>\n",
       "      <td>2017</td>\n",
       "      <td>2.0</td>\n",
       "      <td>77.0</td>\n",
       "      <td>2.0</td>\n",
       "      <td>6.0</td>\n",
       "      <td>1.0</td>\n",
       "    </tr>\n",
       "    <tr>\n",
       "      <td>49941</td>\n",
       "      <td>9.0</td>\n",
       "      <td>2017</td>\n",
       "      <td>88.0</td>\n",
       "      <td>8.0</td>\n",
       "      <td>2.0</td>\n",
       "      <td>6.0</td>\n",
       "      <td>5.0</td>\n",
       "    </tr>\n",
       "    <tr>\n",
       "      <td>49942</td>\n",
       "      <td>9.0</td>\n",
       "      <td>2017</td>\n",
       "      <td>88.0</td>\n",
       "      <td>8.0</td>\n",
       "      <td>2.0</td>\n",
       "      <td>5.0</td>\n",
       "      <td>5.0</td>\n",
       "    </tr>\n",
       "  </tbody>\n",
       "</table>\n",
       "</div>"
      ],
      "text/plain": [
       "       _STATE  IYEAR  PHYSHLTH  INCOME2  MEDCOST  EDUCA  _AGE_G\n",
       "49938     9.0   2017      88.0      7.0      2.0    6.0     2.0\n",
       "49939     9.0   2017      88.0      8.0      2.0    5.0     4.0\n",
       "49940     9.0   2017       2.0     77.0      2.0    6.0     1.0\n",
       "49941     9.0   2017      88.0      8.0      2.0    6.0     5.0\n",
       "49942     9.0   2017      88.0      8.0      2.0    5.0     5.0"
      ]
     },
     "execution_count": 65,
     "metadata": {},
     "output_type": "execute_result"
    }
   ],
   "source": [
    "data8=data8_raw.dropna(axis=0)\n",
    "data8.head()"
   ]
  },
  {
   "cell_type": "code",
   "execution_count": 66,
   "metadata": {
    "scrolled": true
   },
   "outputs": [
    {
     "data": {
      "text/plain": [
       "_STATE      0\n",
       "IYEAR       0\n",
       "PHYSHLTH    0\n",
       "INCOME2     0\n",
       "MEDCOST     0\n",
       "EDUCA       0\n",
       "_AGE_G      0\n",
       "dtype: int64"
      ]
     },
     "execution_count": 66,
     "metadata": {},
     "output_type": "execute_result"
    }
   ],
   "source": [
    "data8.isnull().sum()"
   ]
  },
  {
   "cell_type": "code",
   "execution_count": 67,
   "metadata": {},
   "outputs": [
    {
     "data": {
      "text/html": [
       "<div>\n",
       "<style scoped>\n",
       "    .dataframe tbody tr th:only-of-type {\n",
       "        vertical-align: middle;\n",
       "    }\n",
       "\n",
       "    .dataframe tbody tr th {\n",
       "        vertical-align: top;\n",
       "    }\n",
       "\n",
       "    .dataframe thead th {\n",
       "        text-align: right;\n",
       "    }\n",
       "</style>\n",
       "<table border=\"1\" class=\"dataframe\">\n",
       "  <thead>\n",
       "    <tr style=\"text-align: right;\">\n",
       "      <th></th>\n",
       "      <th>_STATE</th>\n",
       "      <th>IYEAR</th>\n",
       "      <th>PHYSHLTH</th>\n",
       "      <th>INCOME2</th>\n",
       "      <th>MEDCOST</th>\n",
       "      <th>EDUCA</th>\n",
       "      <th>_AGE_G</th>\n",
       "    </tr>\n",
       "  </thead>\n",
       "  <tbody>\n",
       "    <tr>\n",
       "      <td>count</td>\n",
       "      <td>34186.000000</td>\n",
       "      <td>34186.0</td>\n",
       "      <td>34186.000000</td>\n",
       "      <td>34186.000000</td>\n",
       "      <td>34186.000000</td>\n",
       "      <td>34186.000000</td>\n",
       "      <td>34186.000000</td>\n",
       "    </tr>\n",
       "    <tr>\n",
       "      <td>mean</td>\n",
       "      <td>27.026180</td>\n",
       "      <td>2017.0</td>\n",
       "      <td>60.200228</td>\n",
       "      <td>19.959808</td>\n",
       "      <td>1.919909</td>\n",
       "      <td>5.061224</td>\n",
       "      <td>4.448722</td>\n",
       "    </tr>\n",
       "    <tr>\n",
       "      <td>std</td>\n",
       "      <td>12.030145</td>\n",
       "      <td>0.0</td>\n",
       "      <td>37.502833</td>\n",
       "      <td>31.528356</td>\n",
       "      <td>0.433857</td>\n",
       "      <td>1.101023</td>\n",
       "      <td>1.531385</td>\n",
       "    </tr>\n",
       "    <tr>\n",
       "      <td>min</td>\n",
       "      <td>9.000000</td>\n",
       "      <td>2017.0</td>\n",
       "      <td>1.000000</td>\n",
       "      <td>1.000000</td>\n",
       "      <td>1.000000</td>\n",
       "      <td>1.000000</td>\n",
       "      <td>1.000000</td>\n",
       "    </tr>\n",
       "    <tr>\n",
       "      <td>25%</td>\n",
       "      <td>9.000000</td>\n",
       "      <td>2017.0</td>\n",
       "      <td>15.000000</td>\n",
       "      <td>5.000000</td>\n",
       "      <td>2.000000</td>\n",
       "      <td>4.000000</td>\n",
       "      <td>3.000000</td>\n",
       "    </tr>\n",
       "    <tr>\n",
       "      <td>50%</td>\n",
       "      <td>34.000000</td>\n",
       "      <td>2017.0</td>\n",
       "      <td>88.000000</td>\n",
       "      <td>8.000000</td>\n",
       "      <td>2.000000</td>\n",
       "      <td>5.000000</td>\n",
       "      <td>5.000000</td>\n",
       "    </tr>\n",
       "    <tr>\n",
       "      <td>75%</td>\n",
       "      <td>36.000000</td>\n",
       "      <td>2017.0</td>\n",
       "      <td>88.000000</td>\n",
       "      <td>8.000000</td>\n",
       "      <td>2.000000</td>\n",
       "      <td>6.000000</td>\n",
       "      <td>6.000000</td>\n",
       "    </tr>\n",
       "    <tr>\n",
       "      <td>max</td>\n",
       "      <td>36.000000</td>\n",
       "      <td>2017.0</td>\n",
       "      <td>99.000000</td>\n",
       "      <td>99.000000</td>\n",
       "      <td>9.000000</td>\n",
       "      <td>9.000000</td>\n",
       "      <td>6.000000</td>\n",
       "    </tr>\n",
       "  </tbody>\n",
       "</table>\n",
       "</div>"
      ],
      "text/plain": [
       "             _STATE    IYEAR      PHYSHLTH       INCOME2       MEDCOST  \\\n",
       "count  34186.000000  34186.0  34186.000000  34186.000000  34186.000000   \n",
       "mean      27.026180   2017.0     60.200228     19.959808      1.919909   \n",
       "std       12.030145      0.0     37.502833     31.528356      0.433857   \n",
       "min        9.000000   2017.0      1.000000      1.000000      1.000000   \n",
       "25%        9.000000   2017.0     15.000000      5.000000      2.000000   \n",
       "50%       34.000000   2017.0     88.000000      8.000000      2.000000   \n",
       "75%       36.000000   2017.0     88.000000      8.000000      2.000000   \n",
       "max       36.000000   2017.0     99.000000     99.000000      9.000000   \n",
       "\n",
       "              EDUCA        _AGE_G  \n",
       "count  34186.000000  34186.000000  \n",
       "mean       5.061224      4.448722  \n",
       "std        1.101023      1.531385  \n",
       "min        1.000000      1.000000  \n",
       "25%        4.000000      3.000000  \n",
       "50%        5.000000      5.000000  \n",
       "75%        6.000000      6.000000  \n",
       "max        9.000000      6.000000  "
      ]
     },
     "execution_count": 67,
     "metadata": {},
     "output_type": "execute_result"
    }
   ],
   "source": [
    "data8.describe()"
   ]
  },
  {
   "cell_type": "code",
   "execution_count": 69,
   "metadata": {},
   "outputs": [
    {
     "data": {
      "text/html": [
       "<div>\n",
       "<style scoped>\n",
       "    .dataframe tbody tr th:only-of-type {\n",
       "        vertical-align: middle;\n",
       "    }\n",
       "\n",
       "    .dataframe tbody tr th {\n",
       "        vertical-align: top;\n",
       "    }\n",
       "\n",
       "    .dataframe thead th {\n",
       "        text-align: right;\n",
       "    }\n",
       "</style>\n",
       "<table border=\"1\" class=\"dataframe\">\n",
       "  <thead>\n",
       "    <tr style=\"text-align: right;\">\n",
       "      <th></th>\n",
       "      <th>_STATE</th>\n",
       "      <th>IYEAR</th>\n",
       "      <th>PHYSHLTH</th>\n",
       "      <th>INCOME2</th>\n",
       "      <th>MEDCOST</th>\n",
       "      <th>EDUCA</th>\n",
       "      <th>_AGE_G</th>\n",
       "    </tr>\n",
       "  </thead>\n",
       "  <tbody>\n",
       "    <tr>\n",
       "      <td>49938</td>\n",
       "      <td>9.0</td>\n",
       "      <td>2017</td>\n",
       "      <td>88.0</td>\n",
       "      <td>7.0</td>\n",
       "      <td>2.0</td>\n",
       "      <td>6.0</td>\n",
       "      <td>2.0</td>\n",
       "    </tr>\n",
       "    <tr>\n",
       "      <td>49939</td>\n",
       "      <td>9.0</td>\n",
       "      <td>2017</td>\n",
       "      <td>88.0</td>\n",
       "      <td>8.0</td>\n",
       "      <td>2.0</td>\n",
       "      <td>5.0</td>\n",
       "      <td>4.0</td>\n",
       "    </tr>\n",
       "    <tr>\n",
       "      <td>49941</td>\n",
       "      <td>9.0</td>\n",
       "      <td>2017</td>\n",
       "      <td>88.0</td>\n",
       "      <td>8.0</td>\n",
       "      <td>2.0</td>\n",
       "      <td>6.0</td>\n",
       "      <td>5.0</td>\n",
       "    </tr>\n",
       "    <tr>\n",
       "      <td>49942</td>\n",
       "      <td>9.0</td>\n",
       "      <td>2017</td>\n",
       "      <td>88.0</td>\n",
       "      <td>8.0</td>\n",
       "      <td>2.0</td>\n",
       "      <td>5.0</td>\n",
       "      <td>5.0</td>\n",
       "    </tr>\n",
       "    <tr>\n",
       "      <td>49943</td>\n",
       "      <td>9.0</td>\n",
       "      <td>2017</td>\n",
       "      <td>88.0</td>\n",
       "      <td>8.0</td>\n",
       "      <td>2.0</td>\n",
       "      <td>6.0</td>\n",
       "      <td>5.0</td>\n",
       "    </tr>\n",
       "  </tbody>\n",
       "</table>\n",
       "</div>"
      ],
      "text/plain": [
       "       _STATE  IYEAR  PHYSHLTH  INCOME2  MEDCOST  EDUCA  _AGE_G\n",
       "49938     9.0   2017      88.0      7.0      2.0    6.0     2.0\n",
       "49939     9.0   2017      88.0      8.0      2.0    5.0     4.0\n",
       "49941     9.0   2017      88.0      8.0      2.0    6.0     5.0\n",
       "49942     9.0   2017      88.0      8.0      2.0    5.0     5.0\n",
       "49943     9.0   2017      88.0      8.0      2.0    6.0     5.0"
      ]
     },
     "execution_count": 69,
     "metadata": {},
     "output_type": "execute_result"
    }
   ],
   "source": [
    "##['INCOME2']  clean {77: don't know} and {99 :refuse}\n",
    "#data8['INCOME2'].apply(lambda x: 0 if (x==77.0 or x==99.0) else x).value_counts()\n",
    "\n",
    "\n",
    "data8_clean1=data8[data8['INCOME2']!= 77.0]\n",
    "data8_clean2=data8_clean1[data8_clean1['INCOME2']!=99]\n",
    "data8_clean=data8_clean2[data8_clean2['EDUCA']!=9]\n",
    "data8_clean.head()"
   ]
  },
  {
   "cell_type": "code",
   "execution_count": 70,
   "metadata": {},
   "outputs": [
    {
     "data": {
      "text/plain": [
       "(28470, 7)"
      ]
     },
     "execution_count": 70,
     "metadata": {},
     "output_type": "execute_result"
    }
   ],
   "source": [
    "data8_clean.shape"
   ]
  },
  {
   "cell_type": "code",
   "execution_count": 103,
   "metadata": {},
   "outputs": [
    {
     "name": "stderr",
     "output_type": "stream",
     "text": [
      "/Users/yingyuxuan/anaconda3/lib/python3.7/site-packages/ipykernel_launcher.py:1: SettingWithCopyWarning: \n",
      "A value is trying to be set on a copy of a slice from a DataFrame.\n",
      "Try using .loc[row_indexer,col_indexer] = value instead\n",
      "\n",
      "See the caveats in the documentation: http://pandas.pydata.org/pandas-docs/stable/user_guide/indexing.html#returning-a-view-versus-a-copy\n",
      "  \"\"\"Entry point for launching an IPython kernel.\n"
     ]
    }
   ],
   "source": [
    "data8_clean['PHYSHLTH']=data8_clean['PHYSHLTH'].apply(lambda x: x if x in range(1,31) else 0)"
   ]
  },
  {
   "cell_type": "code",
   "execution_count": 72,
   "metadata": {},
   "outputs": [],
   "source": [
    "x_edu=data8_clean['EDUCA']\n",
    "y=data8_clean['PHYSHLTH']"
   ]
  },
  {
   "cell_type": "code",
   "execution_count": 73,
   "metadata": {
    "scrolled": true
   },
   "outputs": [
    {
     "data": {
      "text/html": [
       "<table class=\"simpletable\">\n",
       "<caption>OLS Regression Results</caption>\n",
       "<tr>\n",
       "  <th>Dep. Variable:</th>        <td>PHYSHLTH</td>     <th>  R-squared:         </th>  <td>   0.018</td>  \n",
       "</tr>\n",
       "<tr>\n",
       "  <th>Model:</th>                   <td>OLS</td>       <th>  Adj. R-squared:    </th>  <td>   0.018</td>  \n",
       "</tr>\n",
       "<tr>\n",
       "  <th>Method:</th>             <td>Least Squares</td>  <th>  F-statistic:       </th>  <td>   534.0</td>  \n",
       "</tr>\n",
       "<tr>\n",
       "  <th>Date:</th>             <td>Tue, 21 Jan 2020</td> <th>  Prob (F-statistic):</th>  <td>4.53e-117</td> \n",
       "</tr>\n",
       "<tr>\n",
       "  <th>Time:</th>                 <td>10:14:27</td>     <th>  Log-Likelihood:    </th> <td>-1.0074e+05</td>\n",
       "</tr>\n",
       "<tr>\n",
       "  <th>No. Observations:</th>      <td> 28470</td>      <th>  AIC:               </th>  <td>2.015e+05</td> \n",
       "</tr>\n",
       "<tr>\n",
       "  <th>Df Residuals:</th>          <td> 28468</td>      <th>  BIC:               </th>  <td>2.015e+05</td> \n",
       "</tr>\n",
       "<tr>\n",
       "  <th>Df Model:</th>              <td>     1</td>      <th>                     </th>      <td> </td>     \n",
       "</tr>\n",
       "<tr>\n",
       "  <th>Covariance Type:</th>      <td>nonrobust</td>    <th>                     </th>      <td> </td>     \n",
       "</tr>\n",
       "</table>\n",
       "<table class=\"simpletable\">\n",
       "<tr>\n",
       "    <td></td>       <th>coef</th>     <th>std err</th>      <th>t</th>      <th>P>|t|</th>  <th>[0.025</th>    <th>0.975]</th>  \n",
       "</tr>\n",
       "<tr>\n",
       "  <th>const</th> <td>    9.5555</td> <td>    0.246</td> <td>   38.888</td> <td> 0.000</td> <td>    9.074</td> <td>   10.037</td>\n",
       "</tr>\n",
       "<tr>\n",
       "  <th>EDUCA</th> <td>   -1.0958</td> <td>    0.047</td> <td>  -23.109</td> <td> 0.000</td> <td>   -1.189</td> <td>   -1.003</td>\n",
       "</tr>\n",
       "</table>\n",
       "<table class=\"simpletable\">\n",
       "<tr>\n",
       "  <th>Omnibus:</th>       <td>12295.623</td> <th>  Durbin-Watson:     </th> <td>   1.982</td> \n",
       "</tr>\n",
       "<tr>\n",
       "  <th>Prob(Omnibus):</th>  <td> 0.000</td>   <th>  Jarque-Bera (JB):  </th> <td>43817.740</td>\n",
       "</tr>\n",
       "<tr>\n",
       "  <th>Skew:</th>           <td> 2.273</td>   <th>  Prob(JB):          </th> <td>    0.00</td> \n",
       "</tr>\n",
       "<tr>\n",
       "  <th>Kurtosis:</th>       <td> 7.034</td>   <th>  Cond. No.          </th> <td>    26.7</td> \n",
       "</tr>\n",
       "</table><br/><br/>Warnings:<br/>[1] Standard Errors assume that the covariance matrix of the errors is correctly specified."
      ],
      "text/plain": [
       "<class 'statsmodels.iolib.summary.Summary'>\n",
       "\"\"\"\n",
       "                            OLS Regression Results                            \n",
       "==============================================================================\n",
       "Dep. Variable:               PHYSHLTH   R-squared:                       0.018\n",
       "Model:                            OLS   Adj. R-squared:                  0.018\n",
       "Method:                 Least Squares   F-statistic:                     534.0\n",
       "Date:                Tue, 21 Jan 2020   Prob (F-statistic):          4.53e-117\n",
       "Time:                        10:14:27   Log-Likelihood:            -1.0074e+05\n",
       "No. Observations:               28470   AIC:                         2.015e+05\n",
       "Df Residuals:                   28468   BIC:                         2.015e+05\n",
       "Df Model:                           1                                         \n",
       "Covariance Type:            nonrobust                                         \n",
       "==============================================================================\n",
       "                 coef    std err          t      P>|t|      [0.025      0.975]\n",
       "------------------------------------------------------------------------------\n",
       "const          9.5555      0.246     38.888      0.000       9.074      10.037\n",
       "EDUCA         -1.0958      0.047    -23.109      0.000      -1.189      -1.003\n",
       "==============================================================================\n",
       "Omnibus:                    12295.623   Durbin-Watson:                   1.982\n",
       "Prob(Omnibus):                  0.000   Jarque-Bera (JB):            43817.740\n",
       "Skew:                           2.273   Prob(JB):                         0.00\n",
       "Kurtosis:                       7.034   Cond. No.                         26.7\n",
       "==============================================================================\n",
       "\n",
       "Warnings:\n",
       "[1] Standard Errors assume that the covariance matrix of the errors is correctly specified.\n",
       "\"\"\""
      ]
     },
     "execution_count": 73,
     "metadata": {},
     "output_type": "execute_result"
    }
   ],
   "source": [
    "# Add a constant. Esentially, we are adding a new column (equal in lenght to x), which consists only of 1s\n",
    "x_EDU = sm.add_constant(x_edu)\n",
    "# Fit the model, according to the OLS (ordinary least squares) method with a dependent variable y and an idependent x\n",
    "results1 = sm.OLS(y,x_EDU).fit()\n",
    "# Print a nice summary of the regression.\n",
    "results1.summary()"
   ]
  },
  {
   "cell_type": "markdown",
   "metadata": {},
   "source": [
    "### The result : The higher education you have the lower probability of sickness you get \n",
    "## why?How are health and education related?\n",
    "##For example, in 2011 the prevalence of diabetes in the United States was 15 percent for adults who did not complete high school. That was twice as high as the rate among college graduates. In the same year, more than one-fourth of adults without a high school diploma were smokers, compared to 8 percent of college graduates. Adults who don't finish high school also can expect to live nine years less than their college-educated peers. And that already sizable gap is widening. \n",
    "\n",
    "from https://www.aafp.org/news/blogs/leadervoices/entry/learning_matters_how_education_affects.html"
   ]
  },
  {
   "cell_type": "markdown",
   "metadata": {},
   "source": [
    "## 9. Based on your initial data exploration, what are some hypotheses of what affects a person's health that you would like to further investigate?"
   ]
  },
  {
   "cell_type": "markdown",
   "metadata": {},
   "source": [
    "Type out your initial hyptotheses below:\n",
    "\n",
    "1. Education level  ---Assumption  The higher education level you are at the less days you are sick \n",
    "\n",
    "2. Fruits & Vegetables  ---Assumption  The more Fruits & Vegetables you eat the less days you are sick \n",
    "\n",
    "3. Exercise  ---Assumption  The more exercise you do the less days you are sick \n"
   ]
  },
  {
   "cell_type": "markdown",
   "metadata": {},
   "source": [
    "## Bonus: Create some cool graphics.  "
   ]
  },
  {
   "cell_type": "code",
   "execution_count": 77,
   "metadata": {},
   "outputs": [
    {
     "data": {
      "text/html": [
       "<div>\n",
       "<style scoped>\n",
       "    .dataframe tbody tr th:only-of-type {\n",
       "        vertical-align: middle;\n",
       "    }\n",
       "\n",
       "    .dataframe tbody tr th {\n",
       "        vertical-align: top;\n",
       "    }\n",
       "\n",
       "    .dataframe thead th {\n",
       "        text-align: right;\n",
       "    }\n",
       "</style>\n",
       "<table border=\"1\" class=\"dataframe\">\n",
       "  <thead>\n",
       "    <tr style=\"text-align: right;\">\n",
       "      <th></th>\n",
       "      <th>_STATE</th>\n",
       "      <th>IYEAR</th>\n",
       "      <th>PHYSHLTH</th>\n",
       "      <th>INCOME2</th>\n",
       "      <th>MEDCOST</th>\n",
       "      <th>EDUCA</th>\n",
       "      <th>_AGE_G</th>\n",
       "    </tr>\n",
       "  </thead>\n",
       "  <tbody>\n",
       "    <tr>\n",
       "      <td>49938</td>\n",
       "      <td>9.0</td>\n",
       "      <td>2017</td>\n",
       "      <td>0.0</td>\n",
       "      <td>7.0</td>\n",
       "      <td>2.0</td>\n",
       "      <td>6.0</td>\n",
       "      <td>2.0</td>\n",
       "    </tr>\n",
       "    <tr>\n",
       "      <td>49939</td>\n",
       "      <td>9.0</td>\n",
       "      <td>2017</td>\n",
       "      <td>0.0</td>\n",
       "      <td>8.0</td>\n",
       "      <td>2.0</td>\n",
       "      <td>5.0</td>\n",
       "      <td>4.0</td>\n",
       "    </tr>\n",
       "    <tr>\n",
       "      <td>49941</td>\n",
       "      <td>9.0</td>\n",
       "      <td>2017</td>\n",
       "      <td>0.0</td>\n",
       "      <td>8.0</td>\n",
       "      <td>2.0</td>\n",
       "      <td>6.0</td>\n",
       "      <td>5.0</td>\n",
       "    </tr>\n",
       "    <tr>\n",
       "      <td>49942</td>\n",
       "      <td>9.0</td>\n",
       "      <td>2017</td>\n",
       "      <td>0.0</td>\n",
       "      <td>8.0</td>\n",
       "      <td>2.0</td>\n",
       "      <td>5.0</td>\n",
       "      <td>5.0</td>\n",
       "    </tr>\n",
       "    <tr>\n",
       "      <td>49943</td>\n",
       "      <td>9.0</td>\n",
       "      <td>2017</td>\n",
       "      <td>0.0</td>\n",
       "      <td>8.0</td>\n",
       "      <td>2.0</td>\n",
       "      <td>6.0</td>\n",
       "      <td>5.0</td>\n",
       "    </tr>\n",
       "  </tbody>\n",
       "</table>\n",
       "</div>"
      ],
      "text/plain": [
       "       _STATE  IYEAR  PHYSHLTH  INCOME2  MEDCOST  EDUCA  _AGE_G\n",
       "49938     9.0   2017       0.0      7.0      2.0    6.0     2.0\n",
       "49939     9.0   2017       0.0      8.0      2.0    5.0     4.0\n",
       "49941     9.0   2017       0.0      8.0      2.0    6.0     5.0\n",
       "49942     9.0   2017       0.0      8.0      2.0    5.0     5.0\n",
       "49943     9.0   2017       0.0      8.0      2.0    6.0     5.0"
      ]
     },
     "execution_count": 77,
     "metadata": {},
     "output_type": "execute_result"
    }
   ],
   "source": [
    "data8_clean.head()"
   ]
  },
  {
   "cell_type": "code",
   "execution_count": 78,
   "metadata": {},
   "outputs": [],
   "source": [
    "data8_clean['INCOME2'].value_counts(normalize=True)\n",
    "data8_bar=pd.DataFrame(data8_clean.groupby('INCOME2')['PHYSHLTH'].mean()).reset_index()\n",
    "data8_bar.columns=['Income','Physical Sickness Days']\n"
   ]
  },
  {
   "cell_type": "code",
   "execution_count": 79,
   "metadata": {},
   "outputs": [
    {
     "data": {
      "text/plain": [
       "Text(0.5, 1.0, 'Income  VS Physical Sickness Days')"
      ]
     },
     "execution_count": 79,
     "metadata": {},
     "output_type": "execute_result"
    },
    {
     "data": {
      "image/png": "[encoded data removed]",
      "text/plain": [
       "<Figure size 432x288 with 1 Axes>"
      ]
     },
     "metadata": {},
     "output_type": "display_data"
    }
   ],
   "source": [
    "# Investigate the relationship between income level and health \n",
    "##Income Level   ['INCOME2'] \n",
    "##1:$10,000 / \n",
    "#2:$15,000 /\n",
    "#3:  $20,000 /\n",
    "#4:$25,000/\n",
    "#5: $35,000 /\n",
    "#6:$50,000/\n",
    "#7:$75,000/\n",
    "#8:75,001/\n",
    "#77:dont know/\n",
    "#99:refused\n",
    "\n",
    "sns.barplot('Income','Physical Sickness Days',data=data8_bar)\n",
    "sns.lineplot('Income','Physical Sickness Days',data=data8_bar)\n",
    "plt.title('Income  VS Physical Sickness Days')\n",
    "\n",
    "\n",
    "\n",
    "#from the this bar chart : The higher income you have the lower days you are sick. \n"
   ]
  },
  {
   "cell_type": "code",
   "execution_count": 80,
   "metadata": {},
   "outputs": [
    {
     "name": "stderr",
     "output_type": "stream",
     "text": [
      "/Users/yingyuxuan/anaconda3/lib/python3.7/site-packages/scipy/stats/stats.py:1450: UserWarning: kurtosistest only valid for n>=20 ... continuing anyway, n=8\n",
      "  \"anyway, n=%i\" % int(n))\n"
     ]
    },
    {
     "data": {
      "text/html": [
       "<table class=\"simpletable\">\n",
       "<caption>OLS Regression Results</caption>\n",
       "<tr>\n",
       "  <th>Dep. Variable:</th>    <td>Physical Sickness Days</td> <th>  R-squared:         </th> <td>   0.941</td>\n",
       "</tr>\n",
       "<tr>\n",
       "  <th>Model:</th>                      <td>OLS</td>          <th>  Adj. R-squared:    </th> <td>   0.931</td>\n",
       "</tr>\n",
       "<tr>\n",
       "  <th>Method:</th>                <td>Least Squares</td>     <th>  F-statistic:       </th> <td>   95.17</td>\n",
       "</tr>\n",
       "<tr>\n",
       "  <th>Date:</th>                <td>Tue, 21 Jan 2020</td>    <th>  Prob (F-statistic):</th> <td>6.67e-05</td>\n",
       "</tr>\n",
       "<tr>\n",
       "  <th>Time:</th>                    <td>10:15:24</td>        <th>  Log-Likelihood:    </th> <td> -5.8616</td>\n",
       "</tr>\n",
       "<tr>\n",
       "  <th>No. Observations:</th>         <td>     8</td>         <th>  AIC:               </th> <td>   15.72</td>\n",
       "</tr>\n",
       "<tr>\n",
       "  <th>Df Residuals:</th>             <td>     6</td>         <th>  BIC:               </th> <td>   15.88</td>\n",
       "</tr>\n",
       "<tr>\n",
       "  <th>Df Model:</th>                 <td>     1</td>         <th>                     </th>     <td> </td>   \n",
       "</tr>\n",
       "<tr>\n",
       "  <th>Covariance Type:</th>         <td>nonrobust</td>       <th>                     </th>     <td> </td>   \n",
       "</tr>\n",
       "</table>\n",
       "<table class=\"simpletable\">\n",
       "<tr>\n",
       "     <td></td>       <th>coef</th>     <th>std err</th>      <th>t</th>      <th>P>|t|</th>  <th>[0.025</th>    <th>0.975]</th>  \n",
       "</tr>\n",
       "<tr>\n",
       "  <th>const</th>  <td>    9.3625</td> <td>    0.453</td> <td>   20.668</td> <td> 0.000</td> <td>    8.254</td> <td>   10.471</td>\n",
       "</tr>\n",
       "<tr>\n",
       "  <th>Income</th> <td>   -0.8751</td> <td>    0.090</td> <td>   -9.755</td> <td> 0.000</td> <td>   -1.095</td> <td>   -0.656</td>\n",
       "</tr>\n",
       "</table>\n",
       "<table class=\"simpletable\">\n",
       "<tr>\n",
       "  <th>Omnibus:</th>       <td> 8.711</td> <th>  Durbin-Watson:     </th> <td>   2.730</td>\n",
       "</tr>\n",
       "<tr>\n",
       "  <th>Prob(Omnibus):</th> <td> 0.013</td> <th>  Jarque-Bera (JB):  </th> <td>   2.848</td>\n",
       "</tr>\n",
       "<tr>\n",
       "  <th>Skew:</th>          <td> 1.386</td> <th>  Prob(JB):          </th> <td>   0.241</td>\n",
       "</tr>\n",
       "<tr>\n",
       "  <th>Kurtosis:</th>      <td> 3.928</td> <th>  Cond. No.          </th> <td>    11.5</td>\n",
       "</tr>\n",
       "</table><br/><br/>Warnings:<br/>[1] Standard Errors assume that the covariance matrix of the errors is correctly specified."
      ],
      "text/plain": [
       "<class 'statsmodels.iolib.summary.Summary'>\n",
       "\"\"\"\n",
       "                              OLS Regression Results                              \n",
       "==================================================================================\n",
       "Dep. Variable:     Physical Sickness Days   R-squared:                       0.941\n",
       "Model:                                OLS   Adj. R-squared:                  0.931\n",
       "Method:                     Least Squares   F-statistic:                     95.17\n",
       "Date:                    Tue, 21 Jan 2020   Prob (F-statistic):           6.67e-05\n",
       "Time:                            10:15:24   Log-Likelihood:                -5.8616\n",
       "No. Observations:                       8   AIC:                             15.72\n",
       "Df Residuals:                           6   BIC:                             15.88\n",
       "Df Model:                               1                                         \n",
       "Covariance Type:                nonrobust                                         \n",
       "==============================================================================\n",
       "                 coef    std err          t      P>|t|      [0.025      0.975]\n",
       "------------------------------------------------------------------------------\n",
       "const          9.3625      0.453     20.668      0.000       8.254      10.471\n",
       "Income        -0.8751      0.090     -9.755      0.000      -1.095      -0.656\n",
       "==============================================================================\n",
       "Omnibus:                        8.711   Durbin-Watson:                   2.730\n",
       "Prob(Omnibus):                  0.013   Jarque-Bera (JB):                2.848\n",
       "Skew:                           1.386   Prob(JB):                        0.241\n",
       "Kurtosis:                       3.928   Cond. No.                         11.5\n",
       "==============================================================================\n",
       "\n",
       "Warnings:\n",
       "[1] Standard Errors assume that the covariance matrix of the errors is correctly specified.\n",
       "\"\"\""
      ]
     },
     "execution_count": 80,
     "metadata": {},
     "output_type": "execute_result"
    }
   ],
   "source": [
    "# Add a constant. Esentially, we are adding a new column (equal in lenght to x), which consists only of 1s\n",
    "x_income = sm.add_constant(data8_bar['Income'])\n",
    "# Fit the model, according to the OLS (ordinary least squares) method with a dependent variable y and an idependent x\n",
    "results1 = sm.OLS(data8_bar['Physical Sickness Days'],x_income).fit()\n",
    "# Print a nice summary of the regression.\n",
    "results1.summary()"
   ]
  },
  {
   "cell_type": "code",
   "execution_count": 81,
   "metadata": {},
   "outputs": [
    {
     "data": {
      "text/plain": [
       "<matplotlib.axes._subplots.AxesSubplot at 0x1c20466ad0>"
      ]
     },
     "execution_count": 81,
     "metadata": {},
     "output_type": "execute_result"
    },
    {
     "data": {
      "image/png": "[encoded data removed]",
      "text/plain": [
       "<Figure size 432x288 with 1 Axes>"
      ]
     },
     "metadata": {},
     "output_type": "display_data"
    }
   ],
   "source": [
    "sns.regplot('Income','Physical Sickness Days',data=data8_bar,color=\"g\")"
   ]
  },
  {
   "cell_type": "code",
   "execution_count": 111,
   "metadata": {},
   "outputs": [],
   "source": [
    "# why does income affect health ?\n",
    "#1) low income may not have good sanitation.\n",
    "#2) people cannot afford the insurance and cannot get cured fast, so they sick longer.\n",
    "#3) even though low income people they have benifits from goverment, however other taxpayers incomes are matters\n",
    "### if taxpayers incomes are low and they pay just a little bit and the goverment could not have enough money \n",
    "### to support the poverty better. "
   ]
  },
  {
   "cell_type": "code",
   "execution_count": null,
   "metadata": {},
   "outputs": [],
   "source": []
  }
 ],
 "metadata": {
  "kernelspec": {
   "display_name": "Python 3",
   "language": "python",
   "name": "python3"
  },
  "language_info": {
   "codemirror_mode": {
    "name": "ipython",
    "version": 3
   },
   "file_extension": ".py",
   "mimetype": "text/x-python",
   "name": "python",
   "nbconvert_exporter": "python",
   "pygments_lexer": "ipython3",
   "version": "3.7.4"
  }
 },
 "nbformat": 4,
 "nbformat_minor": 2
}
