{
 "cells": [
  {
   "cell_type": "markdown",
   "metadata": {},
   "source": [
    "## More OOP Practice!\n",
    "\n",
    "Learning goals:\n",
    "- Practice creating classes and instance objects\n",
    "- Understand the distinction between classes and instance objects\n",
    "- Understand the difference between class attributes and instance attributes"
   ]
  },
  {
   "cell_type": "markdown",
   "metadata": {},
   "source": [
    "![mayes](dog.jpeg)"
   ]
  },
  {
   "cell_type": "markdown",
   "metadata": {},
   "source": [
    "### Let's define a Dog class"
   ]
  },
  {
   "cell_type": "code",
   "execution_count": null,
   "metadata": {},
   "outputs": [],
   "source": [
    "class Dog():\n",
    "    def __init__(self,name):\n",
    "        self.name=name\n",
    "        self.species='mammal'\n",
    "       \n",
    "    def speak(self,sound):\n",
    "        print(self.name + ' says ' + sound+ ' !')\n",
    "     \n",
    "\n",
    "        \n",
    "    "
   ]
  },
  {
   "cell_type": "markdown",
   "metadata": {},
   "source": [
    "#### Create an instance of the Dog class and assign it to a variable. Check the type of that variable."
   ]
  },
  {
   "cell_type": "code",
   "execution_count": null,
   "metadata": {},
   "outputs": [],
   "source": [
    "Judy = Dog('Judy')"
   ]
  },
  {
   "cell_type": "code",
   "execution_count": null,
   "metadata": {},
   "outputs": [],
   "source": [
    "Judy.name"
   ]
  },
  {
   "cell_type": "code",
   "execution_count": null,
   "metadata": {},
   "outputs": [],
   "source": [
    "Judy.species"
   ]
  },
  {
   "cell_type": "markdown",
   "metadata": {},
   "source": [
    "#### Add an initialization function so that every instance of the Dog class has a name and an age associated with it"
   ]
  },
  {
   "cell_type": "code",
   "execution_count": null,
   "metadata": {},
   "outputs": [],
   "source": []
  },
  {
   "cell_type": "markdown",
   "metadata": {},
   "source": [
    "#### Every dog might have a different name and/or age, but all dogs are mammals! \n",
    "\n",
    "Add a class attribute called species so that every instance of Dog is a 'mammal'."
   ]
  },
  {
   "cell_type": "code",
   "execution_count": null,
   "metadata": {},
   "outputs": [],
   "source": []
  },
  {
   "cell_type": "markdown",
   "metadata": {},
   "source": [
    "#### Create two separate instances of Dog, and assign them to variables.\n",
    "Print \"{name of dog1} is {age of dog 1} and {name of dog2} is {age of dog 2}\""
   ]
  },
  {
   "cell_type": "code",
   "execution_count": null,
   "metadata": {},
   "outputs": [],
   "source": [
    "dog1=Dog('Peter')\n",
    "dog2=Dog('Amy')\n",
    "dog1.age=1\n",
    "dog2.age=3"
   ]
  },
  {
   "cell_type": "code",
   "execution_count": null,
   "metadata": {},
   "outputs": [],
   "source": [
    "type(dog1.age)"
   ]
  },
  {
   "cell_type": "markdown",
   "metadata": {},
   "source": [
    "#### Check the species of these dogs!"
   ]
  },
  {
   "cell_type": "code",
   "execution_count": null,
   "metadata": {},
   "outputs": [],
   "source": [
    "print(str(dog1.name)+\" is \" + str(dog1.age) + ' !')"
   ]
  },
  {
   "cell_type": "markdown",
   "metadata": {},
   "source": [
    "#### Dogs make sounds too, like barking! \n",
    "Add an instance method to the Dog class called speak, that accepts a sound and prints out, \n",
    "\"{name of dog} says {sound passed into the method}\""
   ]
  },
  {
   "cell_type": "code",
   "execution_count": null,
   "metadata": {
    "scrolled": true
   },
   "outputs": [],
   "source": [
    "dog1.speak('sdf')"
   ]
  },
  {
   "cell_type": "code",
   "execution_count": null,
   "metadata": {},
   "outputs": [],
   "source": [
    "class Speak:\n",
    "    pass \n",
    "\n",
    "speak1=Speak()\n",
    "speak1.test_func=lambda x: print(str(x.name)+\" is \" + str(x.age) + ' !')\n",
    "speak1.test_func(dog1)"
   ]
  },
  {
   "cell_type": "code",
   "execution_count": null,
   "metadata": {},
   "outputs": [],
   "source": []
  },
  {
   "cell_type": "code",
   "execution_count": null,
   "metadata": {},
   "outputs": [],
   "source": [
    "def age(dog):\n",
    "    print(dog.name + ' is ' + str(dog.age) + ' year old!')\n",
    "    \n",
    "age(dog1)"
   ]
  },
  {
   "cell_type": "code",
   "execution_count": null,
   "metadata": {},
   "outputs": [],
   "source": [
    "dog2.sdf=age\n"
   ]
  },
  {
   "cell_type": "markdown",
   "metadata": {},
   "source": [
    "#### Add an instance method called description that prints out:\n",
    "\"{dog name} is {dog age} years old\""
   ]
  },
  {
   "cell_type": "code",
   "execution_count": null,
   "metadata": {},
   "outputs": [],
   "source": [
    "dog1.blah(dog1)"
   ]
  },
  {
   "cell_type": "markdown",
   "metadata": {},
   "source": [
    "#### Create a new instance of the Dog class and assign it to a variable.\n",
    "Use the description and speak instance methods to display information about the dog."
   ]
  },
  {
   "cell_type": "code",
   "execution_count": null,
   "metadata": {},
   "outputs": [],
   "source": [
    "dog1.speak(\"wow\")\n",
    "age(dog1)"
   ]
  },
  {
   "cell_type": "code",
   "execution_count": null,
   "metadata": {},
   "outputs": [],
   "source": []
  },
  {
   "cell_type": "markdown",
   "metadata": {},
   "source": [
    "## Your Turn:\n",
    "#### Now you are going to work with a partner to create a class. \n",
    "#### Your class will construct a descriptive statistics calculator using our functions from our previous lecture. Your class should have the following attributes:\n",
    "\n",
    "- .data - where you will hold your data\n",
    "- .length - that tells you the length of your data list\n",
    "- .mean\n",
    "- .median\n",
    "- .variance\n",
    "- .stand_dev\n",
    "\n",
    "#### Your class should have the following methods:\n",
    "\n",
    "- .add_data() - which can take in a value or a list of values and extend the .data attribute\n",
    "- .remove_data() accept a list of numbers and remove any of the numbers in that list from your object data\n"
   ]
  },
  {
   "cell_type": "code",
   "execution_count": 54,
   "metadata": {},
   "outputs": [],
   "source": [
    "import math \n",
    "\n",
    "class Calculator:\n",
    "    def __init__(self,data):\n",
    "        self.data=data\n",
    "        self.length = len(self.data) \n",
    "        self.mean = sum(self.data)/len(self.data)\n",
    "        \n",
    "    \n",
    "    def median(self):\n",
    "         # if the self.length is odd\n",
    "        if self.length%2==0:\n",
    "            median1= self.data[self.length//2 -1]\n",
    "            median2= self.data[self.length//2]\n",
    "            return  (median1+median2)/2\n",
    "            \n",
    "        else:\n",
    "             return  self.data[self.length//2] \n",
    "            \n",
    "  \n",
    "    def variance(self):\n",
    "        return(sum([(x-self.mean)**2 for x in self.data]))/self.length\n",
    "        \n",
    "      \n",
    "            \n",
    "    def stand_dev(self): \n",
    "        return math.sqrt((sum([(x-self.mean)**2 for x in self.data]))/self.length)\n",
    "            \n",
    "   #can take in a value or a list of values and extend the .data attribute\n",
    "    def add_data(self,new_data):\n",
    "        self.data.extend(new_data)\n",
    "        return self.data\n",
    "        \n",
    "    #emove any of the numbers in that list from your object data    \n",
    "    def remove_data(self,trash):\n",
    "        for element in trash:\n",
    "            self.data.remove(element)\n",
    "        return self.data\n",
    "    \n",
    "    \n",
    "        "
   ]
  },
  {
   "cell_type": "code",
   "execution_count": 68,
   "metadata": {},
   "outputs": [
    {
     "data": {
      "text/plain": [
       "1.695582495781317"
      ]
     },
     "execution_count": 68,
     "metadata": {},
     "output_type": "execute_result"
    }
   ],
   "source": [
    "data1.stand_dev()"
   ]
  },
  {
   "cell_type": "code",
   "execution_count": null,
   "metadata": {},
   "outputs": [],
   "source": []
  },
  {
   "cell_type": "code",
   "execution_count": 69,
   "metadata": {},
   "outputs": [],
   "source": [
    "data1 = Calculator([1,2,3,4,5,6])\n",
    "data2=Calculator([23,45,33,212,0,5])"
   ]
  },
  {
   "cell_type": "code",
   "execution_count": 70,
   "metadata": {},
   "outputs": [
    {
     "data": {
      "text/plain": [
       "3.5"
      ]
     },
     "execution_count": 70,
     "metadata": {},
     "output_type": "execute_result"
    }
   ],
   "source": [
    "data1.median()"
   ]
  },
  {
   "cell_type": "code",
   "execution_count": 71,
   "metadata": {},
   "outputs": [
    {
     "data": {
      "text/plain": [
       "3.5"
      ]
     },
     "execution_count": 71,
     "metadata": {},
     "output_type": "execute_result"
    }
   ],
   "source": [
    "data1.mean"
   ]
  },
  {
   "cell_type": "code",
   "execution_count": 72,
   "metadata": {},
   "outputs": [
    {
     "data": {
      "text/plain": [
       "6"
      ]
     },
     "execution_count": 72,
     "metadata": {},
     "output_type": "execute_result"
    }
   ],
   "source": [
    "data1.length"
   ]
  },
  {
   "cell_type": "code",
   "execution_count": 73,
   "metadata": {},
   "outputs": [
    {
     "data": {
      "text/plain": [
       "2.9166666666666665"
      ]
     },
     "execution_count": 73,
     "metadata": {},
     "output_type": "execute_result"
    }
   ],
   "source": [
    "data1.variance()"
   ]
  },
  {
   "cell_type": "code",
   "execution_count": 74,
   "metadata": {},
   "outputs": [
    {
     "data": {
      "text/plain": [
       "1.707825127659933"
      ]
     },
     "execution_count": 74,
     "metadata": {},
     "output_type": "execute_result"
    }
   ],
   "source": [
    "data1.stand_dev()"
   ]
  },
  {
   "cell_type": "code",
   "execution_count": 75,
   "metadata": {},
   "outputs": [
    {
     "data": {
      "text/plain": [
       "[1, 2, 3, 4, 5, 6, 1, 2]"
      ]
     },
     "execution_count": 75,
     "metadata": {},
     "output_type": "execute_result"
    }
   ],
   "source": [
    "data1.add_data([1,2])"
   ]
  },
  {
   "cell_type": "code",
   "execution_count": 76,
   "metadata": {},
   "outputs": [
    {
     "data": {
      "text/plain": [
       "[4, 5, 6, 1, 2]"
      ]
     },
     "execution_count": 76,
     "metadata": {},
     "output_type": "execute_result"
    }
   ],
   "source": [
    "data1.remove_data([1,2,3])"
   ]
  },
  {
   "cell_type": "code",
   "execution_count": null,
   "metadata": {},
   "outputs": [],
   "source": []
  },
  {
   "cell_type": "code",
   "execution_count": null,
   "metadata": {},
   "outputs": [],
   "source": []
  },
  {
   "cell_type": "code",
   "execution_count": null,
   "metadata": {},
   "outputs": [],
   "source": []
  },
  {
   "cell_type": "code",
   "execution_count": 66,
   "metadata": {},
   "outputs": [],
   "source": []
  },
  {
   "cell_type": "code",
   "execution_count": 67,
   "metadata": {},
   "outputs": [
    {
     "data": {
      "text/plain": [
       "2.5"
      ]
     },
     "execution_count": 67,
     "metadata": {},
     "output_type": "execute_result"
    }
   ],
   "source": []
  },
  {
   "cell_type": "code",
   "execution_count": null,
   "metadata": {},
   "outputs": [],
   "source": []
  },
  {
   "cell_type": "code",
   "execution_count": null,
   "metadata": {},
   "outputs": [],
   "source": []
  }
 ],
 "metadata": {
  "kernelspec": {
   "display_name": "Python 3",
   "language": "python",
   "name": "python3"
  },
  "language_info": {
   "codemirror_mode": {
    "name": "ipython",
    "version": 3
   },
   "file_extension": ".py",
   "mimetype": "text/x-python",
   "name": "python",
   "nbconvert_exporter": "python",
   "pygments_lexer": "ipython3",
   "version": "3.7.4"
  }
 },
 "nbformat": 4,
 "nbformat_minor": 2
}
