{
 "cells": [
  {
   "cell_type": "markdown",
   "metadata": {},
   "source": [
    "--Ω = positive integers between [1, 12]\n",
    "\n",
    "--𝐴= even numbers between [1, 10]\n",
    "\n",
    "--𝐵={3,8,11,12}\n",
    "\n",
    "--𝐶={2,3,6,8,9,11}"
   ]
  },
  {
   "cell_type": "code",
   "execution_count": 2,
   "metadata": {},
   "outputs": [
    {
     "data": {
      "text/plain": [
       "[1, 2, 3, 4, 5, 6, 7, 8, 9, 10, 11, 12]"
      ]
     },
     "execution_count": 2,
     "metadata": {},
     "output_type": "execute_result"
    }
   ],
   "source": [
    "omg=list(range(1,13))\n",
    "omg"
   ]
  },
  {
   "cell_type": "code",
   "execution_count": 4,
   "metadata": {},
   "outputs": [
    {
     "data": {
      "text/plain": [
       "[1, 2, 3, 4, 5, 6, 7, 8, 9, 10]"
      ]
     },
     "execution_count": 4,
     "metadata": {},
     "output_type": "execute_result"
    }
   ],
   "source": [
    "A=list(range(1,11))\n",
    "A"
   ]
  },
  {
   "cell_type": "code",
   "execution_count": 6,
   "metadata": {},
   "outputs": [],
   "source": [
    "B=[3,8,11,12]"
   ]
  },
  {
   "cell_type": "code",
   "execution_count": 7,
   "metadata": {},
   "outputs": [],
   "source": [
    "C=[2,3,6,8,9,11]"
   ]
  },
  {
   "cell_type": "code",
   "execution_count": 72,
   "metadata": {},
   "outputs": [],
   "source": []
  },
  {
   "cell_type": "code",
   "execution_count": 73,
   "metadata": {},
   "outputs": [],
   "source": [
    "# Test.describe(\"Basic tests\")\n",
    "# Test.assert_equals(mutually_exclusive([[3,0.4],[4,0.1],[1,0.01],[2,0.09],[5,0.2],[6,0.1]],1,6), None, \"Check the total probability\")\n",
    "# Test.assert_equals(mutually_exclusive([[1,0.1],[2,0.14],[3,0.16],[4,0.2],[5,0.15],[6,0.25]],1,4), \"0.30\", \"Expected 0.30\")\n",
    "# Test.assert_equals(mutually_exclusive([[1,0.6],[2,0.1001],[3,0.0999],[4,0.1],[5,0.05],[6,0.05]],3,4), \"0.20\", \"Expected 0.20\")\n",
    "# Test.assert_equals(mutually_exclusive([[6,0.25],[1,0.1],[3,0.16],[2,0.14],[5,0.15],[4,0.2]],1,6), \"0.35\", \"Expected 0.35\")\n",
    "# Test.assert_equals(mutually_exclusive([[3,0.4],[4,0.1],[1,0.01],[2,0.09],[5,0.2],[6,0.2]],1,6), \"0.21\", \"Expected 0.21\")"
   ]
  },
  {
   "cell_type": "code",
   "execution_count": 77,
   "metadata": {},
   "outputs": [
    {
     "name": "stdout",
     "output_type": "stream",
     "text": [
      "None\n"
     ]
    }
   ],
   "source": [
    "print(mutually_exclusive([[1,0.1],[2,0.14],[3,0.16],[4,0.2],[5,0.15],[6,0.25]],1,4))"
   ]
  },
  {
   "cell_type": "code",
   "execution_count": null,
   "metadata": {},
   "outputs": [],
   "source": []
  },
  {
   "cell_type": "code",
   "execution_count": null,
   "metadata": {},
   "outputs": [],
   "source": []
  }
 ],
 "metadata": {
  "kernelspec": {
   "display_name": "Python 3",
   "language": "python",
   "name": "python3"
  },
  "language_info": {
   "codemirror_mode": {
    "name": "ipython",
    "version": 3
   },
   "file_extension": ".py",
   "mimetype": "text/x-python",
   "name": "python",
   "nbconvert_exporter": "python",
   "pygments_lexer": "ipython3",
   "version": "3.7.4"
  }
 },
 "nbformat": 4,
 "nbformat_minor": 2
}
