{
 "cells": [
  {
   "cell_type": "code",
   "execution_count": 6,
   "metadata": {},
   "outputs": [],
   "source": [
    "import pandas as pd\n",
    "import requests\n",
    "import json\n",
    "\n",
    "API_KEY='sWBP_z5n8gN0817l1XcH18vpJrdxNj-Et2h_1qb7Rc86fgKR1Rb3zSmgGj1UCmJgO_9vf7H8-wraSeE_T9W5pQ6n25cxbuk4VdEu2RD7mVXfFdl2xjDsU3dQiZEoXnYx'\n",
    "API_KEY1='Ur3A2QUMRv8oAUDuvBjdwsJ2w4RsFeMcDvMmW1S5WIjHGUeYNthn8gHfM8_-NYyDmp7ZNPEvv7LyDWaYALZd_Q4_H4BGnNHmOAKs0PuuKa3EuHNrtDqn371_0XwqXnYx'\n",
    "\n",
    "headers={'Authorization':'bearer %s'% API_KEY}\n",
    "headers1={'Authorization':'bearer %s'% API_KEY1}"
   ]
  },
  {
   "cell_type": "code",
   "execution_count": 7,
   "metadata": {},
   "outputs": [],
   "source": [
    "#funtion for call the business data\n",
    "def businessCallGET(args):\n",
    "    businessEndpoint = 'https://api.yelp.com/v3/businesses/search'\n",
    "    return requests.get(businessEndpoint, params=args,headers=headers)\n",
    "\n",
    "#funtion for call the review data\n",
    "def reviewCallGET(id_num):\n",
    "    reviewEndpoint_base = 'https://api.yelp.com/v3/businesses/'\n",
    "    reviewEndpoint_end = '/reviews'\n",
    "    return {id_num:requests.get(reviewEndpoint_base + id_num + reviewEndpoint_end,headers=headers1).json()}\n",
    "\n",
    "\n"
   ]
  },
  {
   "cell_type": "code",
   "execution_count": 8,
   "metadata": {},
   "outputs": [],
   "source": [
    "#from page 1 to 1000 \n",
    "offset=list(range(0,1000,50))\n",
    "business_data=[]\n",
    "for i in offset:\n",
    "    b_params={'term':'pizza','location':'New York City','limit':50,'offset':i}\n",
    "    business_data.append(businessCallGET(b_params).json())"
   ]
  },
  {
   "cell_type": "code",
   "execution_count": 9,
   "metadata": {},
   "outputs": [],
   "source": [
    "b_data=business_data.copy()"
   ]
  },
  {
   "cell_type": "code",
   "execution_count": null,
   "metadata": {},
   "outputs": [],
   "source": []
  },
  {
   "cell_type": "code",
   "execution_count": 10,
   "metadata": {},
   "outputs": [],
   "source": [
    "#'id', 'name', 'price','phone','review_count', 'rating', 'location', , \n",
    "business_id=[]\n",
    "name=[]\n",
    "review_count=[]\n",
    "rating=[]\n",
    "street=[]\n",
    "state=[]\n",
    "zip_code=[]\n",
    "country=[]\n",
    "city=[]\n",
    "\n",
    "for i in b_data:\n",
    "    for j in i['businesses']:\n",
    "        business_id.append(j['id'])\n",
    "        name.append(j['name'])\n",
    "        review_count.append(j['review_count'])\n",
    "        rating.append(j['rating'])\n",
    "        street.append(j['location']['address1'])\n",
    "        state.append(j['location']['state'])\n",
    "        zip_code.append(j['location']['zip_code'])\n",
    "        city.append(j['location']['city'])\n",
    "        country.append(j['location']['country'])"
   ]
  },
  {
   "cell_type": "code",
   "execution_count": 11,
   "metadata": {},
   "outputs": [
    {
     "name": "stdout",
     "output_type": "stream",
     "text": [
      "1000 1000 1000 1000 1000\n"
     ]
    }
   ],
   "source": [
    "print(len(business_id),len(name),len(review_count),len(rating),len(street))"
   ]
  },
  {
   "cell_type": "code",
   "execution_count": 12,
   "metadata": {},
   "outputs": [
    {
     "data": {
      "text/plain": [
       "1000"
      ]
     },
     "execution_count": 12,
     "metadata": {},
     "output_type": "execute_result"
    }
   ],
   "source": [
    "#for price \n",
    "price=[]\n",
    "for i in b_data:\n",
    "    for j in i['businesses']:\n",
    "        if 'price' in j.keys():\n",
    "            len(j['price'])\n",
    "            price.append(len(j['price']))       \n",
    "        else:\n",
    "            None \n",
    "            price.append(None)\n",
    "\n",
    "len(price)"
   ]
  },
  {
   "cell_type": "code",
   "execution_count": 13,
   "metadata": {},
   "outputs": [
    {
     "data": {
      "text/plain": [
       "1000"
      ]
     },
     "execution_count": 13,
     "metadata": {},
     "output_type": "execute_result"
    }
   ],
   "source": [
    "#for phone\n",
    "\n",
    "phone=[]\n",
    "for i in b_data:\n",
    "    for j in i['businesses']:\n",
    "        if 'phone' in j.keys():\n",
    "            j['phone']\n",
    "            phone.append(j['phone'])       \n",
    "        else:\n",
    "            None \n",
    "            phone.append(None)\n",
    "\n",
    "len(phone)"
   ]
  },
  {
   "cell_type": "markdown",
   "metadata": {},
   "source": [
    "# Get review data  (dont run it too many times)"
   ]
  },
  {
   "cell_type": "code",
   "execution_count": 14,
   "metadata": {},
   "outputs": [],
   "source": [
    "########################################################################################\n",
    "# for i in review_data ['id', 'text', 'rating', 'time_created', 'user']\n",
    "review=[]\n",
    "for i in business_id:\n",
    "    review.append(reviewCallGET(i))\n",
    "########################################################################################                                "
   ]
  },
  {
   "cell_type": "code",
   "execution_count": 12,
   "metadata": {},
   "outputs": [],
   "source": [
    "review_data=review.copy()"
   ]
  },
  {
   "cell_type": "code",
   "execution_count": 20,
   "metadata": {},
   "outputs": [
    {
     "data": {
      "text/plain": [
       "dict_keys(['id', 'url', 'text', 'rating', 'time_created', 'user'])"
      ]
     },
     "execution_count": 20,
     "metadata": {},
     "output_type": "execute_result"
    }
   ],
   "source": [
    "review_data[1][business_id[1]]['reviews'][0].keys()"
   ]
  },
  {
   "cell_type": "code",
   "execution_count": 266,
   "metadata": {},
   "outputs": [
    {
     "data": {
      "text/plain": [
       "2968"
      ]
     },
     "execution_count": 266,
     "metadata": {},
     "output_type": "execute_result"
    }
   ],
   "source": [
    "time_created=[]\n",
    "for i in range(0,len(review_data)):\n",
    "        for j in range(0,len(review_data[i][business_id[i]]['reviews'])):\n",
    "            time_created.append(review_data[i][business_id[i]]['reviews'][j]['time_created'])\n",
    "len(time_created)"
   ]
  },
  {
   "cell_type": "code",
   "execution_count": 144,
   "metadata": {},
   "outputs": [],
   "source": [
    "#i:['reviews', 'total', 'possible_languages']\n",
    "#j:['id', 'url', 'text', 'rating', 'time_created', 'user']\n",
    "\n",
    "business_id_review_id=[]\n",
    "for i in range(0,len(review_data)):\n",
    "        for m in range(0,len(review_data[i][business_id[i]]['reviews'])):\n",
    "            business_id_review_id.append((business_id[i],review_data[i][business_id[i]]['reviews'][m]['id']))\n",
    "\n",
    "business_id_R=[]            \n",
    "for i in business_id_review_id:\n",
    "    business_id_R.append(i[0])\n",
    "    \n",
    "review_id=[]\n",
    "for i in business_id_review_id:\n",
    "    review_id.append(i[1])"
   ]
  },
  {
   "cell_type": "code",
   "execution_count": 145,
   "metadata": {},
   "outputs": [
    {
     "data": {
      "text/plain": [
       "2968"
      ]
     },
     "execution_count": 145,
     "metadata": {},
     "output_type": "execute_result"
    }
   ],
   "source": [
    "len(business_id_R)"
   ]
  },
  {
   "cell_type": "code",
   "execution_count": 146,
   "metadata": {},
   "outputs": [
    {
     "data": {
      "text/plain": [
       "2968"
      ]
     },
     "execution_count": 146,
     "metadata": {},
     "output_type": "execute_result"
    }
   ],
   "source": [
    "len(review_id)"
   ]
  },
  {
   "cell_type": "code",
   "execution_count": 267,
   "metadata": {},
   "outputs": [
    {
     "data": {
      "text/plain": [
       "2968"
      ]
     },
     "execution_count": 267,
     "metadata": {},
     "output_type": "execute_result"
    }
   ],
   "source": [
    "#review_data--text\n",
    "\n",
    "text=[]\n",
    "for i in range(0,len(review_data)):\n",
    "        for m in range(0,len(review_data[i][business_id[i]]['reviews'])):\n",
    "            text.append(review_data[i][business_id[i]]['reviews'][m]['text'])\n",
    "len(text)"
   ]
  },
  {
   "cell_type": "code",
   "execution_count": 268,
   "metadata": {},
   "outputs": [
    {
     "data": {
      "text/plain": [
       "2968"
      ]
     },
     "execution_count": 268,
     "metadata": {},
     "output_type": "execute_result"
    }
   ],
   "source": [
    "review_rating=[]\n",
    "for i in range(0,len(review_data)):\n",
    "        for m in range(0,len(review_data[i][business_id[i]]['reviews'])):\n",
    "            review_rating.append(review_data[i][business_id[i]]['reviews'][m]['rating'])\n",
    "len(review_rating)"
   ]
  },
  {
   "cell_type": "code",
   "execution_count": 269,
   "metadata": {},
   "outputs": [
    {
     "data": {
      "text/plain": [
       "2968"
      ]
     },
     "execution_count": 269,
     "metadata": {},
     "output_type": "execute_result"
    }
   ],
   "source": [
    "user=[]\n",
    "for i in range(0,len(review_data)):\n",
    "        for m in range(0,len(review_data[i][business_id[i]]['reviews'])):\n",
    "            user.append(review_data[i][business_id[i]]['reviews'][m]['user'])\n",
    "            \n",
    "users=[]            \n",
    "for i in range(0,len(user)):\n",
    "    users.append(user[i]['name'])\n",
    "len(users)"
   ]
  },
  {
   "cell_type": "markdown",
   "metadata": {},
   "source": [
    "# for SQL data "
   ]
  },
  {
   "cell_type": "code",
   "execution_count": 320,
   "metadata": {
    "scrolled": true
   },
   "outputs": [
    {
     "data": {
      "text/plain": [
       "2968"
      ]
     },
     "execution_count": 320,
     "metadata": {},
     "output_type": "execute_result"
    }
   ],
   "source": [
    "# data for reviews\n",
    "reviews=[]\n",
    "for i in range(0,len(review_id)):\n",
    "     reviews.append((review_id[i],text[i],review_rating[i],users[i],time_created[i],business_id_R[i]))\n",
    "\n",
    "len(reviews)"
   ]
  },
  {
   "cell_type": "code",
   "execution_count": 321,
   "metadata": {
    "scrolled": true
   },
   "outputs": [
    {
     "name": "stdout",
     "output_type": "stream",
     "text": [
      "1873\n",
      "1874\n",
      "1875\n"
     ]
    }
   ],
   "source": [
    "r=[]\n",
    "for i in range(0,len(reviews)):\n",
    "    r.append(reviews[i][0])\n",
    "    if r.count(reviews[i][0])>1:\n",
    "        print (i)"
   ]
  },
  {
   "cell_type": "code",
   "execution_count": 326,
   "metadata": {},
   "outputs": [
    {
     "data": {
      "text/plain": [
       "('DWze2gpcanZRUpcuQbybow',\n",
       " 'Best pizza in the area. Amazing choices, excellent and friendly customer service. I love their stone ovens. Pizzas taste soooooo good! The dough is fresh...',\n",
       " 5,\n",
       " 'Laura E.',\n",
       " '2019-06-29 17:20:59',\n",
       " 's9gSDyOAO-f_gQEwyk517w')"
      ]
     },
     "execution_count": 326,
     "metadata": {},
     "output_type": "execute_result"
    }
   ],
   "source": [
    "#reviews[1873]\n",
    "#reviews[1874]\n",
    "reviews[1875]"
   ]
  },
  {
   "cell_type": "code",
   "execution_count": 327,
   "metadata": {},
   "outputs": [],
   "source": [
    "reviews.remove(('h1o8fahhh6WlNWO6o9bAiA',\n",
    " \"This is a new spot that has opened in June 2019. It looks nice and clean and plenty of seats for customers. The only thing I've tried has been the pizza...\",\n",
    " 4,\n",
    " 'Dan H.',\n",
    " '2019-11-05 12:56:59',\n",
    " 's9gSDyOAO-f_gQEwyk517w'))\n",
    "reviews.remove(('gRmrfk8HO1Vc4zKSsyp2Hg',\n",
    " \"I just moved to the area and I'm not one for craving pizza but I crave this place and only this place when  I want a slice.  High quality pizza.  Reasonably...\",\n",
    " 5,\n",
    " 'Jeannette A.',\n",
    " '2019-10-04 10:51:09',\n",
    " 's9gSDyOAO-f_gQEwyk517w'))\n",
    "reviews.remove(('DWze2gpcanZRUpcuQbybow',\n",
    " 'Best pizza in the area. Amazing choices, excellent and friendly customer service. I love their stone ovens. Pizzas taste soooooo good! The dough is fresh...',\n",
    " 5,\n",
    " 'Laura E.',\n",
    " '2019-06-29 17:20:59',\n",
    " 's9gSDyOAO-f_gQEwyk517w'))"
   ]
  },
  {
   "cell_type": "code",
   "execution_count": 328,
   "metadata": {},
   "outputs": [
    {
     "data": {
      "text/plain": [
       "2965"
      ]
     },
     "execution_count": 328,
     "metadata": {},
     "output_type": "execute_result"
    }
   ],
   "source": [
    "len(reviews)\n"
   ]
  },
  {
   "cell_type": "code",
   "execution_count": 329,
   "metadata": {},
   "outputs": [
    {
     "data": {
      "text/plain": [
       "2965"
      ]
     },
     "execution_count": 329,
     "metadata": {},
     "output_type": "execute_result"
    }
   ],
   "source": [
    "len(reviews)"
   ]
  },
  {
   "cell_type": "code",
   "execution_count": 330,
   "metadata": {},
   "outputs": [
    {
     "name": "stdout",
     "output_type": "stream",
     "text": [
      "629\n"
     ]
    }
   ],
   "source": [
    "# data for businesses\n",
    "business_1=[]\n",
    "for i in range(0,len(business_id)):\n",
    "     business_1.append((business_id[i],name[i],review_count[i],rating[i],price[i],phone[i],street[i],city[i],\n",
    "                       zip_code[i],state[i],country[i]))\n",
    "\n",
    "r=[]\n",
    "for i in range(0,len(business_1)):\n",
    "    r.append(business_1[i][0])\n",
    "    if r.count(business_1[i][0])>1:\n",
    "        print (i)\n",
    "\n"
   ]
  },
  {
   "cell_type": "code",
   "execution_count": 331,
   "metadata": {},
   "outputs": [],
   "source": [
    "business_1.remove(business_1[629])"
   ]
  },
  {
   "cell_type": "code",
   "execution_count": 332,
   "metadata": {},
   "outputs": [
    {
     "data": {
      "text/plain": [
       "999"
      ]
     },
     "execution_count": 332,
     "metadata": {},
     "output_type": "execute_result"
    }
   ],
   "source": [
    "len(business_1)"
   ]
  },
  {
   "cell_type": "markdown",
   "metadata": {},
   "source": [
    "# Connect to sql "
   ]
  },
  {
   "cell_type": "code",
   "execution_count": 1,
   "metadata": {},
   "outputs": [],
   "source": [
    "import mysql.connector\n",
    "from mysql.connector import errorcode"
   ]
  },
  {
   "cell_type": "code",
   "execution_count": 2,
   "metadata": {},
   "outputs": [],
   "source": [
    "db_name = 'YELP3'"
   ]
  },
  {
   "cell_type": "code",
   "execution_count": 3,
   "metadata": {},
   "outputs": [],
   "source": [
    "cnx = mysql.connector.connect(\n",
    "    host = \"my-database.c2zzlugcfplv.us-east-1.rds.amazonaws.com\",\n",
    "    user = \"admin\",\n",
    "    passwd = \"melaniesoek\"\n",
    ")\n",
    "cursor=cnx.cursor()"
   ]
  },
  {
   "cell_type": "code",
   "execution_count": 4,
   "metadata": {},
   "outputs": [],
   "source": [
    "def create_database(cursor, database):\n",
    "    try:\n",
    "        cursor.execute(\n",
    "            \"CREATE DATABASE {} DEFAULT CHARACTER SET 'utf8'\".format(database))\n",
    "    except mysql.connector.Error as err:\n",
    "        print(\"Failed creating database: {}\".format(err))\n",
    "        exit(1)"
   ]
  },
  {
   "cell_type": "code",
   "execution_count": 5,
   "metadata": {},
   "outputs": [],
   "source": [
    "# check to see if the database already \n",
    "try:\n",
    "    cursor.execute(\"USE {}\".format(db_name))\n",
    "\n",
    "#if the previous line fails because there isn't a db by that name run this line\n",
    "\n",
    "except mysql.connector.Error as err:\n",
    "    print(\"Database {} does not exists.\".format(db_name))\n",
    "    if err.errno == errorcode.ER_BAD_DB_ERROR:\n",
    "        create_database(cursor, db_name)\n",
    "        print(\"Database {} created successfully.\".format(db_name))\n",
    "        cnx.database = db_name\n",
    "    else:\n",
    "        print(err)\n",
    "        exit(1)"
   ]
  },
  {
   "cell_type": "code",
   "execution_count": 6,
   "metadata": {},
   "outputs": [],
   "source": [
    "\n",
    "TABLES = {}\n",
    "TABLES['businesses'] = (\n",
    "    \"CREATE TABLE businesses (\"\n",
    "    \"  business_id varchar(200) NOT NULL ,\"\n",
    "    \"  name varchar(200),\"\n",
    "    \"  review_count int(250),\"\n",
    "    \"  rating DECIMAL (10,2) ,\"\n",
    "    \"  price int(10),\"\n",
    "    \"  phone varchar(200),\"\n",
    "    \"  street varchar(200),\"\n",
    "    \"  city varchar(200),\"\n",
    "    \"  zip_code int(5),\"\n",
    "    \"  state varchar(200),\"\n",
    "    \"  country varchar(200) ,\"\n",
    "    \"  PRIMARY KEY (business_id)\"\n",
    "    \")\")\n",
    "\n",
    "#(review_id[i],text[i],review_rating[i],users[i],business_id_R[i])\n",
    "TABLES['reviews'] = (\n",
    "    \"CREATE TABLE reviews (\"\n",
    "    \"  review_id varchar(100) NOT NULL,\"\n",
    "    \"  text varchar(5000) ,\"\n",
    "    \"  rating char(4)  ,\"\n",
    "    \"  user varchar(14),\"\n",
    "    \"  time_created varchar(40),\"\n",
    "    \"  business_id_R varchar(100),\"\n",
    "    \"  PRIMARY KEY (review_id)\"\n",
    "    \") \")"
   ]
  },
  {
   "cell_type": "code",
   "execution_count": 302,
   "metadata": {},
   "outputs": [
    {
     "data": {
      "text/plain": [
       "'CREATE TABLE reviews (  review_id varchar(100) NOT NULL,  text varchar(5000) ,  rating char(4)  ,  user varchar(14),  time_created varchar(40),  business_id_R varchar(100),  PRIMARY KEY (review_id)) '"
      ]
     },
     "execution_count": 302,
     "metadata": {},
     "output_type": "execute_result"
    }
   ],
   "source": [
    "TABLES['reviews']"
   ]
  },
  {
   "cell_type": "code",
   "execution_count": 303,
   "metadata": {},
   "outputs": [
    {
     "data": {
      "text/plain": [
       "'CREATE TABLE businesses (  business_id varchar(200) NOT NULL ,  name varchar(200),  review_count int(250),  rating DECIMAL (10,2) ,  price int(10),  phone varchar(200),  street varchar(200),  city varchar(200),  zip_code int(5),  state varchar(200),  country varchar(200) ,  PRIMARY KEY (business_id))'"
      ]
     },
     "execution_count": 303,
     "metadata": {},
     "output_type": "execute_result"
    }
   ],
   "source": [
    "TABLES['businesses']"
   ]
  },
  {
   "cell_type": "code",
   "execution_count": 304,
   "metadata": {},
   "outputs": [],
   "source": [
    "cnx = mysql.connector.connect(\n",
    "    host = 'my-database.c2zzlugcfplv.us-east-1.rds.amazonaws.com',\n",
    "    user = 'admin',\n",
    "    passwd = 'melaniesoek',\n",
    "    database = db_name\n",
    ")\n",
    "cursor = cnx.cursor()"
   ]
  },
  {
   "cell_type": "code",
   "execution_count": 305,
   "metadata": {},
   "outputs": [
    {
     "name": "stdout",
     "output_type": "stream",
     "text": [
      "Creating table businesses: OK\n",
      "Creating table reviews: OK\n"
     ]
    }
   ],
   "source": [
    "for table_name in TABLES:\n",
    "    table_description = TABLES[table_name]\n",
    "    try:\n",
    "        print(\"Creating table {}: \".format(table_name), end='')\n",
    "        cursor.execute(table_description)\n",
    "    except mysql.connector.Error as err:\n",
    "        if err.errno == errorcode.ER_TABLE_EXISTS_ERROR:\n",
    "            print(\"already exists.\")\n",
    "        else:\n",
    "            print(err.msg)\n",
    "    else:\n",
    "        print(\"OK\")\n",
    "\n",
    "cursor.close()\n",
    "cnx.close()"
   ]
  },
  {
   "cell_type": "code",
   "execution_count": 306,
   "metadata": {},
   "outputs": [],
   "source": [
    "#INSERTING DATA "
   ]
  },
  {
   "cell_type": "code",
   "execution_count": 307,
   "metadata": {},
   "outputs": [],
   "source": [
    "#since we closed the connection, we need to reinstatiate it\n",
    "cnx = mysql.connector.connect(\n",
    "    host = 'my-database.c2zzlugcfplv.us-east-1.rds.amazonaws.com',\n",
    "    user = 'admin',\n",
    "    passwd = 'melaniesoek',\n",
    "    database = db_name\n",
    ")\n",
    "cursor = cnx.cursor()"
   ]
  },
  {
   "cell_type": "code",
   "execution_count": 308,
   "metadata": {},
   "outputs": [],
   "source": [
    "#reviews\n",
    "stmt_r=\"INSERT INTO reviews(review_id, text, rating, user,time_created,business_id_R) VALUES (%s,%s,%s,%s,%s,%s)\"\n",
    "#businesses\n",
    "stmt=\"INSERT INTO businesses(business_id, name, review_count,rating,price, phone,street,city,zip_code,state,country) VALUES (%s, %s, %s, %s, %s, %s, %s, %s, %s,%s,%s)\""
   ]
  },
  {
   "cell_type": "code",
   "execution_count": 309,
   "metadata": {},
   "outputs": [],
   "source": [
    "cursor.executemany(stmt, business_1)"
   ]
  },
  {
   "cell_type": "code",
   "execution_count": 333,
   "metadata": {},
   "outputs": [],
   "source": [
    "cursor.executemany(stmt_r, reviews)"
   ]
  },
  {
   "cell_type": "code",
   "execution_count": 334,
   "metadata": {},
   "outputs": [],
   "source": [
    "cnx.commit()"
   ]
  },
  {
   "cell_type": "code",
   "execution_count": null,
   "metadata": {},
   "outputs": [],
   "source": []
  },
  {
   "cell_type": "code",
   "execution_count": 16,
   "metadata": {},
   "outputs": [],
   "source": [
    "######Data Analysis \n",
    "#  The research between rating, review_count , price and text length "
   ]
  },
  {
   "cell_type": "code",
   "execution_count": 352,
   "metadata": {},
   "outputs": [],
   "source": [
    "\n"
   ]
  },
  {
   "cell_type": "code",
   "execution_count": null,
   "metadata": {},
   "outputs": [],
   "source": []
  },
  {
   "cell_type": "code",
   "execution_count": null,
   "metadata": {},
   "outputs": [],
   "source": []
  }
 ],
 "metadata": {
  "kernelspec": {
   "display_name": "Python 3",
   "language": "python",
   "name": "python3"
  },
  "language_info": {
   "codemirror_mode": {
    "name": "ipython",
    "version": 3
   },
   "file_extension": ".py",
   "mimetype": "text/x-python",
   "name": "python",
   "nbconvert_exporter": "python",
   "pygments_lexer": "ipython3",
   "version": "3.7.4"
  }
 },
 "nbformat": 4,
 "nbformat_minor": 2
}
